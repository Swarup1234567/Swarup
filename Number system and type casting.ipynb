{
 "cells": [
  {
   "cell_type": "code",
   "execution_count": null,
   "id": "36a92184-6049-418a-b7e7-3905d36ae4e8",
   "metadata": {},
   "outputs": [],
   "source": [
    "#Some operators"
   ]
  },
  {
   "cell_type": "code",
   "execution_count": 1,
   "id": "5e5011c9-0e08-474a-a11a-4f30e8235f58",
   "metadata": {},
   "outputs": [],
   "source": [
    "x1,y1=10,5\n"
   ]
  },
  {
   "cell_type": "code",
   "execution_count": 2,
   "id": "9a40d1a7-46a5-437a-b5b0-43e37867de02",
   "metadata": {},
   "outputs": [
    {
     "data": {
      "text/plain": [
       "15"
      ]
     },
     "execution_count": 2,
     "metadata": {},
     "output_type": "execute_result"
    }
   ],
   "source": [
    "x1^y1#"
   ]
  },
  {
   "cell_type": "code",
   "execution_count": 4,
   "id": "795b60b0-c67e-480f-9017-dcf7d2324257",
   "metadata": {},
   "outputs": [
    {
     "data": {
      "text/plain": [
       "4"
      ]
     },
     "execution_count": 4,
     "metadata": {},
     "output_type": "execute_result"
    }
   ],
   "source": [
    "x=2#assignment operators\n",
    "x+=2\n",
    "x"
   ]
  },
  {
   "cell_type": "code",
   "execution_count": 5,
   "id": "4134b805-436f-4c16-930f-77328f33c2aa",
   "metadata": {},
   "outputs": [],
   "source": [
    "x+=2"
   ]
  },
  {
   "cell_type": "code",
   "execution_count": 6,
   "id": "32248dd2-cd78-4a5e-a754-3787b4ad37e8",
   "metadata": {},
   "outputs": [
    {
     "data": {
      "text/plain": [
       "6"
      ]
     },
     "execution_count": 6,
     "metadata": {},
     "output_type": "execute_result"
    }
   ],
   "source": [
    "x"
   ]
  },
  {
   "cell_type": "raw",
   "id": "e363c985-8245-467b-b6ae-1f76687a34a4",
   "metadata": {},
   "source": [
    "Assignment operators(=,+=,-+,=,//==,/=)"
   ]
  },
  {
   "cell_type": "code",
   "execution_count": 7,
   "id": "1b1ef876-98d5-4180-9d88-21679843efe6",
   "metadata": {},
   "outputs": [],
   "source": [
    "#Number system"
   ]
  },
  {
   "cell_type": "code",
   "execution_count": 8,
   "id": "65becffd-d719-4fc7-9dd3-53622d630468",
   "metadata": {},
   "outputs": [
    {
     "data": {
      "text/plain": [
       "5"
      ]
     },
     "execution_count": 8,
     "metadata": {},
     "output_type": "execute_result"
    }
   ],
   "source": [
    "5 # without variable "
   ]
  },
  {
   "cell_type": "code",
   "execution_count": 9,
   "id": "c5ef3a10-923a-473c-a816-d8efa6383975",
   "metadata": {},
   "outputs": [
    {
     "data": {
      "text/plain": [
       "5"
      ]
     },
     "execution_count": 9,
     "metadata": {},
     "output_type": "execute_result"
    }
   ],
   "source": [
    "v = 5 #with variable \n",
    "v"
   ]
  },
  {
   "cell_type": "code",
   "execution_count": 11,
   "id": "5c2b78bb-4cb0-4a3f-959a-aaab4189925d",
   "metadata": {},
   "outputs": [
    {
     "data": {
      "text/plain": [
       "True"
      ]
     },
     "execution_count": 11,
     "metadata": {},
     "output_type": "execute_result"
    }
   ],
   "source": [
    "5 ==v"
   ]
  },
  {
   "cell_type": "code",
   "execution_count": 12,
   "id": "52e708e8-d09d-4331-beef-f444e262e6fb",
   "metadata": {},
   "outputs": [
    {
     "ename": "SyntaxError",
     "evalue": "cannot assign to literal here. Maybe you meant '==' instead of '='? (3551119421.py, line 1)",
     "output_type": "error",
     "traceback": [
      "\u001b[1;36m  Cell \u001b[1;32mIn[12], line 1\u001b[1;36m\u001b[0m\n\u001b[1;33m    5=v\u001b[0m\n\u001b[1;37m    ^\u001b[0m\n\u001b[1;31mSyntaxError\u001b[0m\u001b[1;31m:\u001b[0m cannot assign to literal here. Maybe you meant '==' instead of '='?\n"
     ]
    }
   ],
   "source": [
    "5=v# here erroe comes because left side stored data and need to assign data in right side\n"
   ]
  },
  {
   "cell_type": "code",
   "execution_count": 13,
   "id": "37a3c343-6659-4784-8e3c-652786006ca1",
   "metadata": {},
   "outputs": [],
   "source": [
    "va = 34, 56"
   ]
  },
  {
   "cell_type": "code",
   "execution_count": 14,
   "id": "b188a31c-eb4f-462e-bb87-21135a77ce50",
   "metadata": {},
   "outputs": [
    {
     "data": {
      "text/plain": [
       "(34, 56)"
      ]
     },
     "execution_count": 14,
     "metadata": {},
     "output_type": "execute_result"
    }
   ],
   "source": [
    "va"
   ]
  },
  {
   "cell_type": "code",
   "execution_count": 16,
   "id": "0c0f3d6c-7940-439e-a955-df90ac1cba5a",
   "metadata": {},
   "outputs": [
    {
     "name": "stdout",
     "output_type": "stream",
     "text": [
      "34 56\n"
     ]
    }
   ],
   "source": [
    "va,var=34,56\n",
    "print(va,var)"
   ]
  },
  {
   "cell_type": "code",
   "execution_count": 20,
   "id": "f3c3b52c-f8d8-4cba-9911-e72834a5cc0e",
   "metadata": {},
   "outputs": [
    {
     "ename": "SyntaxError",
     "evalue": "unexpected character after line continuation character (1736691700.py, line 2)",
     "output_type": "error",
     "traceback": [
      "\u001b[1;36m  Cell \u001b[1;32mIn[20], line 2\u001b[1;36m\u001b[0m\n\u001b[1;33m    print(va,\\n var)\u001b[0m\n\u001b[1;37m              ^\u001b[0m\n\u001b[1;31mSyntaxError\u001b[0m\u001b[1;31m:\u001b[0m unexpected character after line continuation character\n"
     ]
    }
   ],
   "source": [
    "va = 34, 56\n",
    "print(va,\\n var)"
   ]
  },
  {
   "cell_type": "code",
   "execution_count": 21,
   "id": "cac4157c-b078-4a0a-b989-45312e128f14",
   "metadata": {},
   "outputs": [
    {
     "data": {
      "text/plain": [
       "'3.12.7 | packaged by Anaconda, Inc. | (main, Oct  4 2024, 13:17:27) [MSC v.1929 64 bit (AMD64)]'"
      ]
     },
     "execution_count": 21,
     "metadata": {},
     "output_type": "execute_result"
    }
   ],
   "source": [
    "import sys\n",
    "sys.version"
   ]
  },
  {
   "cell_type": "code",
   "execution_count": 22,
   "id": "c060b9ab-0f93-4126-abb2-6a7f0c993888",
   "metadata": {},
   "outputs": [
    {
     "ename": "NameError",
     "evalue": "name 'b' is not defined",
     "output_type": "error",
     "traceback": [
      "\u001b[1;31m---------------------------------------------------------------------------\u001b[0m",
      "\u001b[1;31mNameError\u001b[0m                                 Traceback (most recent call last)",
      "Cell \u001b[1;32mIn[22], line 2\u001b[0m\n\u001b[0;32m      1\u001b[0m A \u001b[38;5;241m=\u001b[39m \u001b[38;5;241m78\u001b[39m\n\u001b[1;32m----> 2\u001b[0m b\n",
      "\u001b[1;31mNameError\u001b[0m: name 'b' is not defined"
     ]
    }
   ],
   "source": [
    "A = 78\n",
    "b#Need to define b value as well\n"
   ]
  },
  {
   "cell_type": "code",
   "execution_count": 23,
   "id": "cffeced1-d31e-42bf-8473-f1e64be7ca37",
   "metadata": {},
   "outputs": [
    {
     "ename": "NameError",
     "evalue": "name 'NIT' is not defined",
     "output_type": "error",
     "traceback": [
      "\u001b[1;31m---------------------------------------------------------------------------\u001b[0m",
      "\u001b[1;31mNameError\u001b[0m                                 Traceback (most recent call last)",
      "Cell \u001b[1;32mIn[23], line 2\u001b[0m\n\u001b[0;32m      1\u001b[0m nit \u001b[38;5;241m=\u001b[39m \u001b[38;5;241m21\u001b[39m\n\u001b[1;32m----> 2\u001b[0m NIT\n",
      "\u001b[1;31mNameError\u001b[0m: name 'NIT' is not defined"
     ]
    }
   ],
   "source": [
    "nit = 21\n",
    "NIT#case sensitive"
   ]
  },
  {
   "cell_type": "code",
   "execution_count": 24,
   "id": "dd2b95ad-018f-4823-94d0-bf2d21359929",
   "metadata": {},
   "outputs": [
    {
     "data": {
      "text/plain": [
       "21"
      ]
     },
     "execution_count": 24,
     "metadata": {},
     "output_type": "execute_result"
    }
   ],
   "source": [
    "nit"
   ]
  },
  {
   "cell_type": "code",
   "execution_count": 25,
   "id": "7e2b5bee-177f-41da-9d0f-b52628630a15",
   "metadata": {},
   "outputs": [
    {
     "ename": "SyntaxError",
     "evalue": "invalid decimal literal (3794310268.py, line 1)",
     "output_type": "error",
     "traceback": [
      "\u001b[1;36m  Cell \u001b[1;32mIn[25], line 1\u001b[1;36m\u001b[0m\n\u001b[1;33m    1a = 67\u001b[0m\n\u001b[1;37m    ^\u001b[0m\n\u001b[1;31mSyntaxError\u001b[0m\u001b[1;31m:\u001b[0m invalid decimal literal\n"
     ]
    }
   ],
   "source": [
    "1a = 67# cant start with 1 or any digit\n",
    "1a"
   ]
  },
  {
   "cell_type": "code",
   "execution_count": 26,
   "id": "7c815e20-42aa-43d8-b925-4619d1f03b37",
   "metadata": {},
   "outputs": [
    {
     "data": {
      "text/plain": [
       "67"
      ]
     },
     "execution_count": 26,
     "metadata": {},
     "output_type": "execute_result"
    }
   ],
   "source": [
    "a1 = 67\n",
    "a1"
   ]
  },
  {
   "cell_type": "code",
   "execution_count": 27,
   "id": "3426407c-5436-44aa-af60-18e9f13f3c20",
   "metadata": {},
   "outputs": [
    {
     "ename": "SyntaxError",
     "evalue": "invalid syntax (882423719.py, line 1)",
     "output_type": "error",
     "traceback": [
      "\u001b[1;36m  Cell \u001b[1;32mIn[27], line 1\u001b[1;36m\u001b[0m\n\u001b[1;33m    1@ = 89\u001b[0m\n\u001b[1;37m       ^\u001b[0m\n\u001b[1;31mSyntaxError\u001b[0m\u001b[1;31m:\u001b[0m invalid syntax\n"
     ]
    }
   ],
   "source": [
    "1@ = 89# cant use @ as it's a special charac ter"
   ]
  },
  {
   "cell_type": "code",
   "execution_count": 28,
   "id": "bc4fad24-9f50-406e-9d23-e07ce0347b35",
   "metadata": {},
   "outputs": [
    {
     "ename": "SyntaxError",
     "evalue": "invalid syntax (480117770.py, line 1)",
     "output_type": "error",
     "traceback": [
      "\u001b[1;36m  Cell \u001b[1;32mIn[28], line 1\u001b[1;36m\u001b[0m\n\u001b[1;33m    pri$ = 67\u001b[0m\n\u001b[1;37m       ^\u001b[0m\n\u001b[1;31mSyntaxError\u001b[0m\u001b[1;31m:\u001b[0m invalid syntax\n"
     ]
    }
   ],
   "source": [
    "pri$ = 67# WRONG INSTRUCTION TO PRINT"
   ]
  },
  {
   "cell_type": "code",
   "execution_count": 29,
   "id": "724c8ad7-2164-4c48-ba31-9e0cf234abe4",
   "metadata": {},
   "outputs": [
    {
     "ename": "ValueError",
     "evalue": "not enough values to unpack (expected 4, got 3)",
     "output_type": "error",
     "traceback": [
      "\u001b[1;31m---------------------------------------------------------------------------\u001b[0m",
      "\u001b[1;31mValueError\u001b[0m                                Traceback (most recent call last)",
      "Cell \u001b[1;32mIn[29], line 1\u001b[0m\n\u001b[1;32m----> 1\u001b[0m x_train, x_test, y_train, y_test \u001b[38;5;241m=\u001b[39m \u001b[38;5;241m80\u001b[39m, \u001b[38;5;241m20\u001b[39m, \u001b[38;5;241m70\u001b[39m,\n",
      "\u001b[1;31mValueError\u001b[0m: not enough values to unpack (expected 4, got 3)"
     ]
    }
   ],
   "source": [
    "x_train, x_test, y_train, y_test = 80, 20, 70, #4 VALUES NEED TO PROVIDE, 3 GIVEN"
   ]
  },
  {
   "cell_type": "code",
   "execution_count": 31,
   "id": "8920f014-1874-4142-8979-f27b5be30e3e",
   "metadata": {},
   "outputs": [
    {
     "data": {
      "text/plain": [
       "67"
      ]
     },
     "execution_count": 31,
     "metadata": {},
     "output_type": "execute_result"
    }
   ],
   "source": [
    "x_train, x_test, y_train, y_test = 80, 20, 70, 67\n",
    "\n",
    "x_train\n",
    "x_test\n",
    "y_train\n",
    "y_test"
   ]
  },
  {
   "cell_type": "code",
   "execution_count": 32,
   "id": "ab33323b-39e6-4b39-bf4a-a488e84a7998",
   "metadata": {},
   "outputs": [
    {
     "name": "stdout",
     "output_type": "stream",
     "text": [
      "80\n",
      "20\n",
      "70\n",
      "67\n"
     ]
    }
   ],
   "source": [
    "x_train, x_test, y_train, y_test = 80, 20, 70, 67\n",
    "\n",
    "print(x_train)\n",
    "print(x_test)\n",
    "print(y_train)\n",
    "print(y_test)"
   ]
  },
  {
   "cell_type": "code",
   "execution_count": 33,
   "id": "2ddc3508-6abd-4b5e-9a5c-bf0158b28e27",
   "metadata": {},
   "outputs": [
    {
     "ename": "SyntaxError",
     "evalue": "invalid syntax (4046618552.py, line 1)",
     "output_type": "error",
     "traceback": [
      "\u001b[1;36m  Cell \u001b[1;32mIn[33], line 1\u001b[1;36m\u001b[0m\n\u001b[1;33m    if = 89\u001b[0m\n\u001b[1;37m       ^\u001b[0m\n\u001b[1;31mSyntaxError\u001b[0m\u001b[1;31m:\u001b[0m invalid syntax\n"
     ]
    }
   ],
   "source": [
    "if = 89#KEY WORD"
   ]
  },
  {
   "cell_type": "code",
   "execution_count": 34,
   "id": "c801a76a-9dee-4bbd-9193-db8c8dc4b914",
   "metadata": {},
   "outputs": [],
   "source": [
    "IF=889"
   ]
  },
  {
   "cell_type": "code",
   "execution_count": 35,
   "id": "56c53127-4c0c-47a2-a557-6e6c04465661",
   "metadata": {},
   "outputs": [
    {
     "data": {
      "text/plain": [
       "889"
      ]
     },
     "execution_count": 35,
     "metadata": {},
     "output_type": "execute_result"
    }
   ],
   "source": [
    "IF"
   ]
  },
  {
   "cell_type": "code",
   "execution_count": 36,
   "id": "135f4281-a25c-4bc9-bb91-f2d61d8c2ebc",
   "metadata": {},
   "outputs": [
    {
     "ename": "SyntaxError",
     "evalue": "invalid syntax (2347664624.py, line 1)",
     "output_type": "error",
     "traceback": [
      "\u001b[1;36m  Cell \u001b[1;32mIn[36], line 1\u001b[1;36m\u001b[0m\n\u001b[1;33m    else = 90\u001b[0m\n\u001b[1;37m    ^\u001b[0m\n\u001b[1;31mSyntaxError\u001b[0m\u001b[1;31m:\u001b[0m invalid syntax\n"
     ]
    }
   ],
   "source": [
    "else = 90#KEY WORD\n"
   ]
  },
  {
   "cell_type": "code",
   "execution_count": 37,
   "id": "53e18304-ed60-47a2-8088-be2c613df51b",
   "metadata": {},
   "outputs": [],
   "source": [
    "ELSE=90"
   ]
  },
  {
   "cell_type": "code",
   "execution_count": 38,
   "id": "380cc8a6-75ef-4de5-af2f-134c2ff4256d",
   "metadata": {},
   "outputs": [
    {
     "data": {
      "text/plain": [
       "90"
      ]
     },
     "execution_count": 38,
     "metadata": {},
     "output_type": "execute_result"
    }
   ],
   "source": [
    "ELSE"
   ]
  },
  {
   "cell_type": "code",
   "execution_count": 39,
   "id": "61787032-e067-4c97-a46b-872f6bde4460",
   "metadata": {},
   "outputs": [
    {
     "data": {
      "text/plain": [
       "['False',\n",
       " 'None',\n",
       " 'True',\n",
       " 'and',\n",
       " 'as',\n",
       " 'assert',\n",
       " 'async',\n",
       " 'await',\n",
       " 'break',\n",
       " 'class',\n",
       " 'continue',\n",
       " 'def',\n",
       " 'del',\n",
       " 'elif',\n",
       " 'else',\n",
       " 'except',\n",
       " 'finally',\n",
       " 'for',\n",
       " 'from',\n",
       " 'global',\n",
       " 'if',\n",
       " 'import',\n",
       " 'in',\n",
       " 'is',\n",
       " 'lambda',\n",
       " 'nonlocal',\n",
       " 'not',\n",
       " 'or',\n",
       " 'pass',\n",
       " 'raise',\n",
       " 'return',\n",
       " 'try',\n",
       " 'while',\n",
       " 'with',\n",
       " 'yield']"
      ]
     },
     "execution_count": 39,
     "metadata": {},
     "output_type": "execute_result"
    }
   ],
   "source": [
    "import keyword\n",
    "keyword.kwlist#IMPOTING KEY WORDS OF PYTHON"
   ]
  },
  {
   "cell_type": "code",
   "execution_count": 40,
   "id": "1692ef72-d030-428e-8a59-3cc08069a3d9",
   "metadata": {},
   "outputs": [
    {
     "name": "stdout",
     "output_type": "stream",
     "text": [
      "35\n"
     ]
    }
   ],
   "source": [
    "print(len(keyword.kwlist))# COUNT OF ELEMENTS"
   ]
  },
  {
   "cell_type": "raw",
   "id": "74345b98-652c-469a-a3d4-b79d5ab8970d",
   "metadata": {},
   "source": [
    "\n",
    "\n",
    "- int = value without decimal \n",
    "- float = value with decimal ( only e letter is allowed)\n",
    "- bool = True or False \n",
    "- complex = (a + bj or a + bJ) | a- real part & b - imaginary part | j - squre root of -1\n",
    "- string = text which denotes '' || \"\" | ''' ''' (''' ''' -- multiline comments) "
   ]
  },
  {
   "cell_type": "code",
   "execution_count": 42,
   "id": "7cf18a12-a907-42de-8b1c-43e5ef9ea915",
   "metadata": {},
   "outputs": [
    {
     "data": {
      "text/plain": [
       "2"
      ]
     },
     "execution_count": 42,
     "metadata": {},
     "output_type": "execute_result"
    }
   ],
   "source": [
    "i = 2\n",
    "i"
   ]
  },
  {
   "cell_type": "code",
   "execution_count": 43,
   "id": "835221e9-fc42-4839-8ced-d6eddaafc33c",
   "metadata": {},
   "outputs": [
    {
     "data": {
      "text/plain": [
       "int"
      ]
     },
     "execution_count": 43,
     "metadata": {},
     "output_type": "execute_result"
    }
   ],
   "source": [
    "type(i)"
   ]
  },
  {
   "cell_type": "raw",
   "id": "ec314959-1224-4846-a495-f510fdcd5a1c",
   "metadata": {},
   "source": [
    "#Now for float\n"
   ]
  },
  {
   "cell_type": "code",
   "execution_count": 49,
   "id": "024c4b9e-5692-48c0-8364-c537e3796e56",
   "metadata": {},
   "outputs": [
    {
     "data": {
      "text/plain": [
       "110.5"
      ]
     },
     "execution_count": 49,
     "metadata": {},
     "output_type": "execute_result"
    }
   ],
   "source": [
    "f = 110.5\n",
    "f"
   ]
  },
  {
   "cell_type": "code",
   "execution_count": 45,
   "id": "f9b1d111-4ec0-4405-b62d-d497ca668df0",
   "metadata": {},
   "outputs": [
    {
     "data": {
      "text/plain": [
       "float"
      ]
     },
     "execution_count": 45,
     "metadata": {},
     "output_type": "execute_result"
    }
   ],
   "source": [
    "type(f)"
   ]
  },
  {
   "cell_type": "code",
   "execution_count": 50,
   "id": "9f15033c-a0d3-4f52-b8a6-62c0c5c3c51f",
   "metadata": {},
   "outputs": [
    {
     "ename": "TypeError",
     "evalue": "object of type 'float' has no len()",
     "output_type": "error",
     "traceback": [
      "\u001b[1;31m---------------------------------------------------------------------------\u001b[0m",
      "\u001b[1;31mTypeError\u001b[0m                                 Traceback (most recent call last)",
      "Cell \u001b[1;32mIn[50], line 1\u001b[0m\n\u001b[1;32m----> 1\u001b[0m \u001b[38;5;28mprint\u001b[39m(\u001b[38;5;28mlen\u001b[39m(f))\n",
      "\u001b[1;31mTypeError\u001b[0m: object of type 'float' has no len()"
     ]
    }
   ],
   "source": [
    "print(len(f))"
   ]
  },
  {
   "cell_type": "code",
   "execution_count": 51,
   "id": "3a50dd99-b4dc-4f86-8484-64e5e94265eb",
   "metadata": {},
   "outputs": [],
   "source": [
    "#Boolean\n"
   ]
  },
  {
   "cell_type": "code",
   "execution_count": 53,
   "id": "3dbf2d2d-8f5c-453f-95b6-7ea72c37a9c2",
   "metadata": {},
   "outputs": [
    {
     "data": {
      "text/plain": [
       "1"
      ]
     },
     "execution_count": 53,
     "metadata": {},
     "output_type": "execute_result"
    }
   ],
   "source": [
    "True+True+False-True"
   ]
  },
  {
   "cell_type": "code",
   "execution_count": 55,
   "id": "3b74c7b1-371f-439b-bb9c-a23f990239ec",
   "metadata": {},
   "outputs": [
    {
     "data": {
      "text/plain": [
       "(True, False)"
      ]
     },
     "execution_count": 55,
     "metadata": {},
     "output_type": "execute_result"
    }
   ],
   "source": [
    "b1=True\n",
    "b2=False\n",
    "b1,b2"
   ]
  },
  {
   "cell_type": "code",
   "execution_count": 56,
   "id": "ef89022b-d525-4e45-a3c6-0f08cd039b8f",
   "metadata": {},
   "outputs": [
    {
     "data": {
      "text/plain": [
       "bool"
      ]
     },
     "execution_count": 56,
     "metadata": {},
     "output_type": "execute_result"
    }
   ],
   "source": [
    "type(b1)"
   ]
  },
  {
   "cell_type": "code",
   "execution_count": 57,
   "id": "50ee556c-ef37-40e0-a2f5-08817a19d942",
   "metadata": {},
   "outputs": [
    {
     "ename": "TypeError",
     "evalue": "object of type 'bool' has no len()",
     "output_type": "error",
     "traceback": [
      "\u001b[1;31m---------------------------------------------------------------------------\u001b[0m",
      "\u001b[1;31mTypeError\u001b[0m                                 Traceback (most recent call last)",
      "Cell \u001b[1;32mIn[57], line 1\u001b[0m\n\u001b[1;32m----> 1\u001b[0m \u001b[38;5;28mprint\u001b[39m(\u001b[38;5;28mlen\u001b[39m(b1))\n",
      "\u001b[1;31mTypeError\u001b[0m: object of type 'bool' has no len()"
     ]
    }
   ],
   "source": [
    "print(len(b1))"
   ]
  },
  {
   "cell_type": "code",
   "execution_count": 58,
   "id": "e3d49775-8f8b-4019-94ab-ac679dac3ac9",
   "metadata": {},
   "outputs": [
    {
     "data": {
      "text/plain": [
       "1"
      ]
     },
     "execution_count": 58,
     "metadata": {},
     "output_type": "execute_result"
    }
   ],
   "source": [
    "b1+b2"
   ]
  },
  {
   "cell_type": "code",
   "execution_count": 59,
   "id": "65df5290-4bd5-44a4-b1b3-acf5b77afc2e",
   "metadata": {},
   "outputs": [
    {
     "data": {
      "text/plain": [
       "1"
      ]
     },
     "execution_count": 59,
     "metadata": {},
     "output_type": "execute_result"
    }
   ],
   "source": [
    "b1-b2"
   ]
  },
  {
   "cell_type": "code",
   "execution_count": 60,
   "id": "8d247983-9ab7-4c9e-b0e4-a5cd505e52f3",
   "metadata": {},
   "outputs": [
    {
     "data": {
      "text/plain": [
       "0"
      ]
     },
     "execution_count": 60,
     "metadata": {},
     "output_type": "execute_result"
    }
   ],
   "source": [
    "b2-b2"
   ]
  },
  {
   "cell_type": "code",
   "execution_count": 61,
   "id": "e0de6143-ff19-445a-9412-3a2908fc7d0b",
   "metadata": {},
   "outputs": [
    {
     "data": {
      "text/plain": [
       "0"
      ]
     },
     "execution_count": 61,
     "metadata": {},
     "output_type": "execute_result"
    }
   ],
   "source": [
    "b1-b1"
   ]
  },
  {
   "cell_type": "code",
   "execution_count": 62,
   "id": "cf3b633a-ac06-4b04-9908-ad55a85902f0",
   "metadata": {},
   "outputs": [],
   "source": [
    "# Complex Number\n"
   ]
  },
  {
   "cell_type": "code",
   "execution_count": 63,
   "id": "0d9807ca-3b4e-47ef-b51a-5ab17066ba0d",
   "metadata": {},
   "outputs": [
    {
     "data": {
      "text/plain": [
       "(1+2j)"
      ]
     },
     "execution_count": 63,
     "metadata": {},
     "output_type": "execute_result"
    }
   ],
   "source": [
    "a=1+2j\n",
    "a"
   ]
  },
  {
   "cell_type": "code",
   "execution_count": 64,
   "id": "4ac680cb-23d2-4df3-8e22-5b99c1e9902a",
   "metadata": {},
   "outputs": [
    {
     "data": {
      "text/plain": [
       "complex"
      ]
     },
     "execution_count": 64,
     "metadata": {},
     "output_type": "execute_result"
    }
   ],
   "source": [
    "type(a)"
   ]
  },
  {
   "cell_type": "code",
   "execution_count": 66,
   "id": "3adb199a-b03a-494c-aca4-e5d5a6d40e66",
   "metadata": {},
   "outputs": [
    {
     "ename": "TypeError",
     "evalue": "object of type 'complex' has no len()",
     "output_type": "error",
     "traceback": [
      "\u001b[1;31m---------------------------------------------------------------------------\u001b[0m",
      "\u001b[1;31mTypeError\u001b[0m                                 Traceback (most recent call last)",
      "Cell \u001b[1;32mIn[66], line 1\u001b[0m\n\u001b[1;32m----> 1\u001b[0m \u001b[38;5;28mprint\u001b[39m(\u001b[38;5;28mlen\u001b[39m(a))\n",
      "\u001b[1;31mTypeError\u001b[0m: object of type 'complex' has no len()"
     ]
    }
   ],
   "source": [
    "print(len(a))"
   ]
  },
  {
   "cell_type": "code",
   "execution_count": 68,
   "id": "27bdaa2f-c8be-4d7a-bea1-1dc2734320a3",
   "metadata": {},
   "outputs": [
    {
     "data": {
      "text/plain": [
       "1.0"
      ]
     },
     "execution_count": 68,
     "metadata": {},
     "output_type": "execute_result"
    }
   ],
   "source": [
    "a.real#real part"
   ]
  },
  {
   "cell_type": "code",
   "execution_count": 70,
   "id": "88189ffa-6a33-47b6-a869-d6492bfa5adc",
   "metadata": {},
   "outputs": [
    {
     "data": {
      "text/plain": [
       "2.0"
      ]
     },
     "execution_count": 70,
     "metadata": {},
     "output_type": "execute_result"
    }
   ],
   "source": [
    "a.imag#imaginary part"
   ]
  },
  {
   "cell_type": "code",
   "execution_count": 71,
   "id": "f2ea7f9f-8af3-4273-8d89-746b5373b952",
   "metadata": {},
   "outputs": [],
   "source": [
    "a1 = 5 + 5j"
   ]
  },
  {
   "cell_type": "code",
   "execution_count": 72,
   "id": "cfee41e9-11bf-4e20-9047-b119a30a2277",
   "metadata": {},
   "outputs": [
    {
     "data": {
      "text/plain": [
       "(6+7j)"
      ]
     },
     "execution_count": 72,
     "metadata": {},
     "output_type": "execute_result"
    }
   ],
   "source": [
    "a+a1"
   ]
  },
  {
   "cell_type": "code",
   "execution_count": 73,
   "id": "661e3cee-1f51-4bee-bd06-00eecb4e9e56",
   "metadata": {},
   "outputs": [],
   "source": [
    "# Type Casting or type conversion\n",
    "#we are converting all other datat type to int , float, complex, bool or string"
   ]
  },
  {
   "cell_type": "code",
   "execution_count": 74,
   "id": "ebff068c-abd9-490e-baf8-4779b0a3b706",
   "metadata": {},
   "outputs": [
    {
     "data": {
      "text/plain": [
       "2"
      ]
     },
     "execution_count": 74,
     "metadata": {},
     "output_type": "execute_result"
    }
   ],
   "source": [
    "int(2.3)"
   ]
  },
  {
   "cell_type": "code",
   "execution_count": 75,
   "id": "dea3bafa-c271-47a6-a0dc-d7f7d78b3e97",
   "metadata": {},
   "outputs": [
    {
     "data": {
      "text/plain": [
       "2.3"
      ]
     },
     "execution_count": 75,
     "metadata": {},
     "output_type": "execute_result"
    }
   ],
   "source": [
    "float(2.3)"
   ]
  },
  {
   "cell_type": "code",
   "execution_count": 76,
   "id": "c5b18746-1a8f-4335-ac1c-428db7db009c",
   "metadata": {},
   "outputs": [
    {
     "data": {
      "text/plain": [
       "True"
      ]
     },
     "execution_count": 76,
     "metadata": {},
     "output_type": "execute_result"
    }
   ],
   "source": [
    "bool(2.3)"
   ]
  },
  {
   "cell_type": "code",
   "execution_count": 77,
   "id": "4850792e-add2-4405-9f23-0f98ebb6062f",
   "metadata": {},
   "outputs": [
    {
     "name": "stdout",
     "output_type": "stream",
     "text": [
      "True\n",
      "True\n",
      "True\n",
      "True\n",
      "True\n",
      "False\n"
     ]
    }
   ],
   "source": [
    "print(bool(9))\n",
    "print(bool(9.9))\n",
    "print(bool('9'))\n",
    "print(bool(9 + 9j))\n",
    "print(bool(_))\n",
    "print(bool())"
   ]
  },
  {
   "cell_type": "code",
   "execution_count": 78,
   "id": "f97a07bb-1f42-469c-b914-71181fe6ddfe",
   "metadata": {},
   "outputs": [
    {
     "data": {
      "text/plain": [
       "'2'"
      ]
     },
     "execution_count": 78,
     "metadata": {},
     "output_type": "execute_result"
    }
   ],
   "source": [
    "str(2)#Type cast other data type"
   ]
  },
  {
   "cell_type": "code",
   "execution_count": 79,
   "id": "a5e5b74c-0ab2-4695-a74f-ea931f2cc941",
   "metadata": {},
   "outputs": [
    {
     "data": {
      "text/plain": [
       "'2.2'"
      ]
     },
     "execution_count": 79,
     "metadata": {},
     "output_type": "execute_result"
    }
   ],
   "source": [
    "str(2.2)\n"
   ]
  },
  {
   "cell_type": "code",
   "execution_count": 80,
   "id": "7c421b4b-e00a-4716-989d-26fba2ad5575",
   "metadata": {},
   "outputs": [
    {
     "data": {
      "text/plain": [
       "'False'"
      ]
     },
     "execution_count": 80,
     "metadata": {},
     "output_type": "execute_result"
    }
   ],
   "source": [
    "str(False)\n"
   ]
  },
  {
   "cell_type": "code",
   "execution_count": 81,
   "id": "dde2493d-562f-4be4-bf93-89761f87ad4d",
   "metadata": {},
   "outputs": [
    {
     "data": {
      "text/plain": [
       "2"
      ]
     },
     "execution_count": 81,
     "metadata": {},
     "output_type": "execute_result"
    }
   ],
   "source": [
    "True + True\n"
   ]
  },
  {
   "cell_type": "code",
   "execution_count": 83,
   "id": "4a5565a2-5126-4d0d-b7ad-8b0b937a10be",
   "metadata": {},
   "outputs": [
    {
     "data": {
      "text/plain": [
       "True"
      ]
     },
     "execution_count": 83,
     "metadata": {},
     "output_type": "execute_result"
    }
   ],
   "source": [
    "bool(2)"
   ]
  },
  {
   "cell_type": "code",
   "execution_count": 84,
   "id": "b0fc8222-25ea-4c36-81e7-857154d3a677",
   "metadata": {},
   "outputs": [
    {
     "data": {
      "text/plain": [
       "'(10+20j)'"
      ]
     },
     "execution_count": 84,
     "metadata": {},
     "output_type": "execute_result"
    }
   ],
   "source": [
    "str(10+20j)"
   ]
  },
  {
   "cell_type": "code",
   "execution_count": 86,
   "id": "72a9446e-d28d-4df9-bacc-fabd8cdabeb0",
   "metadata": {},
   "outputs": [
    {
     "name": "stdout",
     "output_type": "stream",
     "text": [
      "False\n"
     ]
    }
   ],
   "source": [
    "print(len('milk') != len('meat'))"
   ]
  },
  {
   "cell_type": "code",
   "execution_count": null,
   "id": "0af65464-bf2b-458e-ba6d-70f0ec87c01a",
   "metadata": {},
   "outputs": [],
   "source": []
  }
 ],
 "metadata": {
  "kernelspec": {
   "display_name": "Python 3 (ipykernel)",
   "language": "python",
   "name": "python3"
  },
  "language_info": {
   "codemirror_mode": {
    "name": "ipython",
    "version": 3
   },
   "file_extension": ".py",
   "mimetype": "text/x-python",
   "name": "python",
   "nbconvert_exporter": "python",
   "pygments_lexer": "ipython3",
   "version": "3.12.7"
  }
 },
 "nbformat": 4,
 "nbformat_minor": 5
}
