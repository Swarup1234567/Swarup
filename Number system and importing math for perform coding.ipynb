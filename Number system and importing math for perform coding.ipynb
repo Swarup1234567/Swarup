{
 "cells": [
  {
   "cell_type": "code",
   "execution_count": 1,
   "id": "3153c598-5288-4767-8680-e5431d1e4de5",
   "metadata": {},
   "outputs": [
    {
     "ename": "NameError",
     "evalue": "name 'np' is not defined",
     "output_type": "error",
     "traceback": [
      "\u001b[1;31m---------------------------------------------------------------------------\u001b[0m",
      "\u001b[1;31mNameError\u001b[0m                                 Traceback (most recent call last)",
      "Cell \u001b[1;32mIn[1], line 1\u001b[0m\n\u001b[1;32m----> 1\u001b[0m np\u001b[38;5;241m.\u001b[39mnum\n",
      "\u001b[1;31mNameError\u001b[0m: name 'np' is not defined"
     ]
    }
   ],
   "source": [
    "np.num"
   ]
  },
  {
   "cell_type": "code",
   "execution_count": 4,
   "id": "e3c3a3a2-c296-4fac-89cf-26d00cea48da",
   "metadata": {},
   "outputs": [],
   "source": [
    "import numpy as np\n",
    "npp=np.nan\n"
   ]
  },
  {
   "cell_type": "code",
   "execution_count": 5,
   "id": "a962dba9-d91e-4299-8e24-3eb60131764c",
   "metadata": {},
   "outputs": [
    {
     "data": {
      "text/plain": [
       "float"
      ]
     },
     "execution_count": 5,
     "metadata": {},
     "output_type": "execute_result"
    }
   ],
   "source": [
    "type(npp)\n"
   ]
  },
  {
   "cell_type": "code",
   "execution_count": 6,
   "id": "073928a0-8920-48b0-8320-f77c7da7201d",
   "metadata": {},
   "outputs": [],
   "source": [
    "#complement\n",
    "#and\n",
    "#Or\n",
    "#NOt\n",
    "#XOR\n",
    "#>>\n",
    "#<<\n"
   ]
  },
  {
   "cell_type": "code",
   "execution_count": 7,
   "id": "619ac514-8eab-49e3-a118-5ddab3592d49",
   "metadata": {},
   "outputs": [
    {
     "ename": "SyntaxError",
     "evalue": "invalid syntax (602846058.py, line 1)",
     "output_type": "error",
     "traceback": [
      "\u001b[1;36m  Cell \u001b[1;32mIn[7], line 1\u001b[1;36m\u001b[0m\n\u001b[1;33m    12`\u001b[0m\n\u001b[1;37m      ^\u001b[0m\n\u001b[1;31mSyntaxError\u001b[0m\u001b[1;31m:\u001b[0m invalid syntax\n"
     ]
    }
   ],
   "source": [
    "12`"
   ]
  },
  {
   "cell_type": "code",
   "execution_count": 8,
   "id": "43acefb6-0718-46da-9680-4921d14813a6",
   "metadata": {},
   "outputs": [
    {
     "ename": "SyntaxError",
     "evalue": "invalid syntax (704466017.py, line 1)",
     "output_type": "error",
     "traceback": [
      "\u001b[1;36m  Cell \u001b[1;32mIn[8], line 1\u001b[1;36m\u001b[0m\n\u001b[1;33m    `12\u001b[0m\n\u001b[1;37m    ^\u001b[0m\n\u001b[1;31mSyntaxError\u001b[0m\u001b[1;31m:\u001b[0m invalid syntax\n"
     ]
    }
   ],
   "source": [
    "`12"
   ]
  },
  {
   "cell_type": "code",
   "execution_count": 9,
   "id": "1ad93771-3ad6-4e26-85be-bb5cf078d869",
   "metadata": {},
   "outputs": [
    {
     "data": {
      "text/plain": [
       "-2"
      ]
     },
     "execution_count": 9,
     "metadata": {},
     "output_type": "execute_result"
    }
   ],
   "source": [
    "~1"
   ]
  },
  {
   "cell_type": "code",
   "execution_count": 10,
   "id": "26971215-b057-4090-8ff7-455b15d879a1",
   "metadata": {},
   "outputs": [
    {
     "data": {
      "text/plain": [
       "12"
      ]
     },
     "execution_count": 10,
     "metadata": {},
     "output_type": "execute_result"
    }
   ],
   "source": [
    "12&13#AND"
   ]
  },
  {
   "cell_type": "code",
   "execution_count": 11,
   "id": "990a9a8e-0fcd-4f27-a8e7-956947bc39c6",
   "metadata": {},
   "outputs": [
    {
     "data": {
      "text/plain": [
       "13"
      ]
     },
     "execution_count": 11,
     "metadata": {},
     "output_type": "execute_result"
    }
   ],
   "source": [
    "12|13#OR"
   ]
  },
  {
   "cell_type": "code",
   "execution_count": 12,
   "id": "5c0ccec7-029e-4df8-b911-7e82cd087282",
   "metadata": {},
   "outputs": [
    {
     "data": {
      "text/plain": [
       "5"
      ]
     },
     "execution_count": 12,
     "metadata": {},
     "output_type": "execute_result"
    }
   ],
   "source": [
    "11^14"
   ]
  },
  {
   "cell_type": "code",
   "execution_count": 13,
   "id": "d6608538-f06f-46a1-9029-7a8d7b7de7a7",
   "metadata": {},
   "outputs": [
    {
     "ename": "SyntaxError",
     "evalue": "invalid syntax (1931448794.py, line 1)",
     "output_type": "error",
     "traceback": [
      "\u001b[1;36m  Cell \u001b[1;32mIn[13], line 1\u001b[1;36m\u001b[0m\n\u001b[1;33m    12>>\u001b[0m\n\u001b[1;37m        ^\u001b[0m\n\u001b[1;31mSyntaxError\u001b[0m\u001b[1;31m:\u001b[0m invalid syntax\n"
     ]
    }
   ],
   "source": [
    "12>>"
   ]
  },
  {
   "cell_type": "code",
   "execution_count": 14,
   "id": "87b6c12c-bed6-4e75-aaa2-baba6c157805",
   "metadata": {},
   "outputs": [
    {
     "data": {
      "text/plain": [
       "'0b1101'"
      ]
     },
     "execution_count": 14,
     "metadata": {},
     "output_type": "execute_result"
    }
   ],
   "source": [
    "bin(13)"
   ]
  },
  {
   "cell_type": "code",
   "execution_count": 15,
   "id": "a35d7562-2e0c-4f82-983f-1be452418248",
   "metadata": {},
   "outputs": [
    {
     "data": {
      "text/plain": [
       "'0b101101'"
      ]
     },
     "execution_count": 15,
     "metadata": {},
     "output_type": "execute_result"
    }
   ],
   "source": [
    "bin(45)"
   ]
  },
  {
   "cell_type": "code",
   "execution_count": 17,
   "id": "c020bac5-b2e2-4975-ae2a-b54de5719790",
   "metadata": {},
   "outputs": [
    {
     "data": {
      "text/plain": [
       "('0b100011', 45)"
      ]
     },
     "execution_count": 17,
     "metadata": {},
     "output_type": "execute_result"
    }
   ],
   "source": [
    "bin(35),(45)"
   ]
  },
  {
   "cell_type": "code",
   "execution_count": 18,
   "id": "ec018e7b-bf04-4120-bc61-355b03485ecf",
   "metadata": {},
   "outputs": [
    {
     "data": {
      "text/plain": [
       "('0b101101', '0b100011')"
      ]
     },
     "execution_count": 18,
     "metadata": {},
     "output_type": "execute_result"
    }
   ],
   "source": [
    "bin(45),bin(35)"
   ]
  },
  {
   "cell_type": "code",
   "execution_count": 19,
   "id": "0805c214-b964-4cbf-9e61-e7c120131f59",
   "metadata": {},
   "outputs": [
    {
     "data": {
      "text/plain": [
       "-37"
      ]
     },
     "execution_count": 19,
     "metadata": {},
     "output_type": "execute_result"
    }
   ],
   "source": [
    "~36"
   ]
  },
  {
   "cell_type": "code",
   "execution_count": 20,
   "id": "62e61601-0824-487b-9d00-a174b36731bc",
   "metadata": {},
   "outputs": [
    {
     "data": {
      "text/plain": [
       "36"
      ]
     },
     "execution_count": 20,
     "metadata": {},
     "output_type": "execute_result"
    }
   ],
   "source": [
    "~-37"
   ]
  },
  {
   "cell_type": "code",
   "execution_count": 21,
   "id": "a833d2b2-b2a7-409e-890f-3bbede745be7",
   "metadata": {},
   "outputs": [
    {
     "data": {
      "text/plain": [
       "121"
      ]
     },
     "execution_count": 21,
     "metadata": {},
     "output_type": "execute_result"
    }
   ],
   "source": [
    "65^56"
   ]
  },
  {
   "cell_type": "code",
   "execution_count": 22,
   "id": "6d3724f8-d1fd-4eb9-9971-16adc4a3138f",
   "metadata": {},
   "outputs": [
    {
     "data": {
      "text/plain": [
       "18"
      ]
     },
     "execution_count": 22,
     "metadata": {},
     "output_type": "execute_result"
    }
   ],
   "source": [
    "12^30"
   ]
  },
  {
   "cell_type": "markdown",
   "id": "57a45da2-14c5-4602-aaf2-019d5b2a5f0c",
   "metadata": {},
   "source": [
    "10<<9"
   ]
  },
  {
   "cell_type": "code",
   "execution_count": 23,
   "id": "6cd4c308-ddd0-4621-a8ef-c189744044d9",
   "metadata": {},
   "outputs": [
    {
     "data": {
      "text/plain": [
       "2"
      ]
     },
     "execution_count": 23,
     "metadata": {},
     "output_type": "execute_result"
    }
   ],
   "source": [
    "2"
   ]
  },
  {
   "cell_type": "code",
   "execution_count": 24,
   "id": "45f6e679-0087-40ba-9480-120c39b0bc8f",
   "metadata": {},
   "outputs": [
    {
     "data": {
      "text/plain": [
       "20"
      ]
     },
     "execution_count": 24,
     "metadata": {},
     "output_type": "execute_result"
    }
   ],
   "source": [
    "10<<1#Left Shift"
   ]
  },
  {
   "cell_type": "code",
   "execution_count": 25,
   "id": "b2e66e9b-2c21-402c-884f-0c12e9b5467d",
   "metadata": {},
   "outputs": [
    {
     "data": {
      "text/plain": [
       "5"
      ]
     },
     "execution_count": 25,
     "metadata": {},
     "output_type": "execute_result"
    }
   ],
   "source": [
    "10>>1#Right shift"
   ]
  },
  {
   "cell_type": "code",
   "execution_count": 26,
   "id": "d2cbf7d2-3bec-4bd7-9d59-f697d2115631",
   "metadata": {},
   "outputs": [],
   "source": [
    "#Package\n",
    "#Module\n",
    "#Function"
   ]
  },
  {
   "cell_type": "code",
   "execution_count": 28,
   "id": "1c6e72ed-418a-49cc-8e58-ccaf2a927da2",
   "metadata": {},
   "outputs": [],
   "source": [
    "#Math is a module\n"
   ]
  },
  {
   "cell_type": "code",
   "execution_count": 29,
   "id": "8a78a869-ab5e-466d-b022-4b9ce4895107",
   "metadata": {},
   "outputs": [
    {
     "ename": "NameError",
     "evalue": "name 'sqrt' is not defined",
     "output_type": "error",
     "traceback": [
      "\u001b[1;31m---------------------------------------------------------------------------\u001b[0m",
      "\u001b[1;31mNameError\u001b[0m                                 Traceback (most recent call last)",
      "Cell \u001b[1;32mIn[29], line 1\u001b[0m\n\u001b[1;32m----> 1\u001b[0m x\u001b[38;5;241m=\u001b[39msqrt(\u001b[38;5;241m25\u001b[39m)\n",
      "\u001b[1;31mNameError\u001b[0m: name 'sqrt' is not defined"
     ]
    }
   ],
   "source": [
    "x=sqrt(25)"
   ]
  },
  {
   "cell_type": "code",
   "execution_count": 30,
   "id": "300e0c01-f959-4fbc-af9a-9907e1cd6ddd",
   "metadata": {},
   "outputs": [],
   "source": [
    "import math"
   ]
  },
  {
   "cell_type": "code",
   "execution_count": 32,
   "id": "cf82fb29-906c-46c3-bfa5-f37cce90beb8",
   "metadata": {},
   "outputs": [],
   "source": [
    "x=math.sqrt(25)"
   ]
  },
  {
   "cell_type": "code",
   "execution_count": 33,
   "id": "b6199443-bc19-4da9-ad19-31e09de3c790",
   "metadata": {},
   "outputs": [
    {
     "data": {
      "text/plain": [
       "5.0"
      ]
     },
     "execution_count": 33,
     "metadata": {},
     "output_type": "execute_result"
    }
   ],
   "source": [
    "x"
   ]
  },
  {
   "cell_type": "code",
   "execution_count": 37,
   "id": "cf345ea6-2d5c-45ac-8a78-a19abcb21dbf",
   "metadata": {},
   "outputs": [
    {
     "data": {
      "text/plain": [
       "0.0"
      ]
     },
     "execution_count": 37,
     "metadata": {},
     "output_type": "execute_result"
    }
   ],
   "source": [
    "x=math.acos(1)\n",
    "x"
   ]
  },
  {
   "cell_type": "code",
   "execution_count": 38,
   "id": "dbed1093-c8ac-4324-b8ed-f47d28f13315",
   "metadata": {},
   "outputs": [
    {
     "name": "stdout",
     "output_type": "stream",
     "text": [
      "3\n"
     ]
    }
   ],
   "source": [
    "print(math.floor(3.87))# Lower value"
   ]
  },
  {
   "cell_type": "code",
   "execution_count": 40,
   "id": "d71859c1-429c-4e13-bea9-48f2bf6ff5fa",
   "metadata": {},
   "outputs": [
    {
     "name": "stdout",
     "output_type": "stream",
     "text": [
      "4\n"
     ]
    }
   ],
   "source": [
    "print(math.ceil(3.87))# Upper value"
   ]
  },
  {
   "cell_type": "code",
   "execution_count": 41,
   "id": "dec7de86-1c12-4bb5-b5e1-b3a76e0b4118",
   "metadata": {},
   "outputs": [
    {
     "data": {
      "text/plain": [
       "('nit', 45)"
      ]
     },
     "execution_count": 41,
     "metadata": {},
     "output_type": "execute_result"
    }
   ],
   "source": [
    "t5=('nit',45)\n",
    "t5"
   ]
  },
  {
   "cell_type": "code",
   "execution_count": 42,
   "id": "4dada9d0-5175-4d09-ab80-bc3548af1200",
   "metadata": {},
   "outputs": [
    {
     "data": {
      "text/plain": [
       "tuple"
      ]
     },
     "execution_count": 42,
     "metadata": {},
     "output_type": "execute_result"
    }
   ],
   "source": [
    "type(t5)"
   ]
  },
  {
   "cell_type": "code",
   "execution_count": 43,
   "id": "6e8dfaab-1baa-45e9-b340-c3dedcdfad14",
   "metadata": {},
   "outputs": [
    {
     "name": "stdout",
     "output_type": "stream",
     "text": [
      "n\n"
     ]
    }
   ],
   "source": [
    "print(t5[0][0])# Tuple Indexing"
   ]
  },
  {
   "cell_type": "code",
   "execution_count": 45,
   "id": "7e6f3b9b-059a-4c38-8599-3c49e6c3c9d3",
   "metadata": {},
   "outputs": [
    {
     "name": "stdout",
     "output_type": "stream",
     "text": [
      "i\n",
      "t\n",
      "t\n"
     ]
    },
    {
     "ename": "TypeError",
     "evalue": "'int' object is not subscriptable",
     "output_type": "error",
     "traceback": [
      "\u001b[1;31m---------------------------------------------------------------------------\u001b[0m",
      "\u001b[1;31mTypeError\u001b[0m                                 Traceback (most recent call last)",
      "Cell \u001b[1;32mIn[45], line 5\u001b[0m\n\u001b[0;32m      2\u001b[0m \u001b[38;5;28mprint\u001b[39m(t5[\u001b[38;5;241m0\u001b[39m][\u001b[38;5;241m2\u001b[39m])\n\u001b[0;32m      3\u001b[0m \u001b[38;5;28mprint\u001b[39m(t5[\u001b[38;5;241m0\u001b[39m][\u001b[38;5;241m2\u001b[39m])\n\u001b[1;32m----> 5\u001b[0m \u001b[38;5;28mprint\u001b[39m(t5[\u001b[38;5;241m1\u001b[39m][\u001b[38;5;241m0\u001b[39m])\n",
      "\u001b[1;31mTypeError\u001b[0m: 'int' object is not subscriptable"
     ]
    }
   ],
   "source": [
    "print(t5[0][1])\n",
    "print(t5[0][2])\n",
    "print(t5[0][2])\n",
    "\n",
    "print(t5[1][0])"
   ]
  },
  {
   "cell_type": "code",
   "execution_count": 46,
   "id": "38009e22-8183-407a-b373-91b7d6ddf912",
   "metadata": {},
   "outputs": [],
   "source": [
    "# Input Function\n"
   ]
  },
  {
   "cell_type": "code",
   "execution_count": 48,
   "id": "2f409e9b-5606-40bd-b1b7-20567e470cab",
   "metadata": {},
   "outputs": [],
   "source": [
    "#31\n"
   ]
  },
  {
   "cell_type": "code",
   "execution_count": 49,
   "id": "2243cd51-a82e-46ac-9408-7a843181aceb",
   "metadata": {},
   "outputs": [],
   "source": [
    "import math"
   ]
  },
  {
   "cell_type": "code",
   "execution_count": 51,
   "id": "e80294de-8fe8-44a9-82d4-8885bfd2983d",
   "metadata": {},
   "outputs": [
    {
     "name": "stdout",
     "output_type": "stream",
     "text": [
      "9.0\n"
     ]
    }
   ],
   "source": [
    "print(math.pow(3,2))"
   ]
  },
  {
   "cell_type": "code",
   "execution_count": 53,
   "id": "0f10ac09-6e51-44dc-8f87-cb8cb84fb534",
   "metadata": {},
   "outputs": [
    {
     "ename": "NameError",
     "evalue": "name 'sqrt' is not defined",
     "output_type": "error",
     "traceback": [
      "\u001b[1;31m---------------------------------------------------------------------------\u001b[0m",
      "\u001b[1;31mNameError\u001b[0m                                 Traceback (most recent call last)",
      "Cell \u001b[1;32mIn[53], line 1\u001b[0m\n\u001b[1;32m----> 1\u001b[0m x \u001b[38;5;241m=\u001b[39m sqrt(\u001b[38;5;241m25\u001b[39m)\n",
      "\u001b[1;31mNameError\u001b[0m: name 'sqrt' is not defined"
     ]
    }
   ],
   "source": [
    "x = sqrt(25) #sqrt is inbuild function "
   ]
  },
  {
   "cell_type": "code",
   "execution_count": 54,
   "id": "e23812e4-d61a-4774-aa3e-3cf91536910c",
   "metadata": {},
   "outputs": [],
   "source": [
    "import math # math is module"
   ]
  },
  {
   "cell_type": "code",
   "execution_count": 52,
   "id": "5b541e43-c046-466e-a051-9e34d289663b",
   "metadata": {},
   "outputs": [
    {
     "data": {
      "text/plain": [
       "5.0"
      ]
     },
     "execution_count": 52,
     "metadata": {},
     "output_type": "execute_result"
    }
   ],
   "source": [
    "x = math.sqrt(25)\n",
    "x"
   ]
  },
  {
   "cell_type": "code",
   "execution_count": 55,
   "id": "92d0f1b0-b9a7-4068-a9fc-8086076f135f",
   "metadata": {},
   "outputs": [
    {
     "data": {
      "text/plain": [
       "3.872983346207417"
      ]
     },
     "execution_count": 55,
     "metadata": {},
     "output_type": "execute_result"
    }
   ],
   "source": [
    "x1 = math.sqrt(15)\n",
    "x1"
   ]
  },
  {
   "cell_type": "code",
   "execution_count": 56,
   "id": "c62e9bef-d67d-4c58-ae51-5048c21c326f",
   "metadata": {},
   "outputs": [
    {
     "name": "stdout",
     "output_type": "stream",
     "text": [
      "2\n"
     ]
    }
   ],
   "source": [
    "print(math.floor(2.9)) #floor - minimum or least value "
   ]
  },
  {
   "cell_type": "code",
   "execution_count": 57,
   "id": "64ab3ddf-5e10-416d-862f-735e0c4d41c3",
   "metadata": {},
   "outputs": [
    {
     "name": "stdout",
     "output_type": "stream",
     "text": [
      "3\n"
     ]
    }
   ],
   "source": [
    "print(math.ceil(2.9)) #floor - minimum or least value "
   ]
  },
  {
   "cell_type": "code",
   "execution_count": 58,
   "id": "7614acce-b72b-4a4c-a4dc-c38a5a5961a9",
   "metadata": {},
   "outputs": [
    {
     "name": "stdout",
     "output_type": "stream",
     "text": [
      "9.0\n"
     ]
    }
   ],
   "source": [
    "print(math.pow(3,2))"
   ]
  },
  {
   "cell_type": "code",
   "execution_count": 59,
   "id": "516faee3-dff3-41b4-a13b-ccaac8d09b52",
   "metadata": {},
   "outputs": [
    {
     "name": "stdout",
     "output_type": "stream",
     "text": [
      "3.141592653589793\n"
     ]
    }
   ],
   "source": [
    "print(math.pi) #these are constant"
   ]
  },
  {
   "cell_type": "code",
   "execution_count": 60,
   "id": "ebe2621e-3726-4be1-aa73-053b346c48da",
   "metadata": {},
   "outputs": [
    {
     "name": "stdout",
     "output_type": "stream",
     "text": [
      "2.718281828459045\n"
     ]
    }
   ],
   "source": [
    "print(math.e) #these are constant"
   ]
  },
  {
   "cell_type": "code",
   "execution_count": 61,
   "id": "b2090ce6-38b2-4601-83b2-73e1f3777b5e",
   "metadata": {},
   "outputs": [
    {
     "data": {
      "text/plain": [
       "3.1622776601683795"
      ]
     },
     "execution_count": 61,
     "metadata": {},
     "output_type": "execute_result"
    }
   ],
   "source": [
    "import math as m\n",
    "m.sqrt(10)"
   ]
  },
  {
   "cell_type": "code",
   "execution_count": 62,
   "id": "85f54750-3086-4d50-9a48-3ac92e0bd3a8",
   "metadata": {},
   "outputs": [
    {
     "data": {
      "text/plain": [
       "8.0"
      ]
     },
     "execution_count": 62,
     "metadata": {},
     "output_type": "execute_result"
    }
   ],
   "source": [
    "from math import sqrt,pow # math has many function if you want to call specific function then you use from \n",
    "pow(2,3)"
   ]
  },
  {
   "cell_type": "code",
   "execution_count": 63,
   "id": "121fa521-f47e-42d8-b854-4f01bb6d8d89",
   "metadata": {},
   "outputs": [
    {
     "data": {
      "text/plain": [
       "8"
      ]
     },
     "execution_count": 63,
     "metadata": {},
     "output_type": "execute_result"
    }
   ],
   "source": [
    "round(pow(2,3))"
   ]
  },
  {
   "cell_type": "code",
   "execution_count": null,
   "id": "7c2812c2-9b4f-4ee7-b679-df744001d4dc",
   "metadata": {},
   "outputs": [],
   "source": [
    "# pycharm run debug\n",
    "# how to install python idle\n",
    "# how to install pycharm & starts working on pycharm"
   ]
  },
  {
   "cell_type": "code",
   "execution_count": 64,
   "id": "329d7a96-05dd-4342-b074-662dd24801eb",
   "metadata": {},
   "outputs": [],
   "source": [
    "from math import sqrt,pow"
   ]
  },
  {
   "cell_type": "code",
   "execution_count": 65,
   "id": "44c39797-8554-48b6-8c85-a0737435877b",
   "metadata": {},
   "outputs": [
    {
     "data": {
      "text/plain": [
       "3"
      ]
     },
     "execution_count": 65,
     "metadata": {},
     "output_type": "execute_result"
    }
   ],
   "source": [
    "3"
   ]
  },
  {
   "cell_type": "code",
   "execution_count": 66,
   "id": "ed3e9e13-0eae-4535-81ba-85095a6b5679",
   "metadata": {},
   "outputs": [],
   "source": [
    "from math import *"
   ]
  },
  {
   "cell_type": "code",
   "execution_count": 67,
   "id": "d5bde1f9-ff43-4252-b392-08c8b6ed4a40",
   "metadata": {},
   "outputs": [
    {
     "data": {
      "text/plain": [
       "6561.0"
      ]
     },
     "execution_count": 67,
     "metadata": {},
     "output_type": "execute_result"
    }
   ],
   "source": [
    "pow(3,8)"
   ]
  },
  {
   "cell_type": "code",
   "execution_count": 68,
   "id": "49d090ee-f543-48eb-b3e2-2f4447b40545",
   "metadata": {},
   "outputs": [
    {
     "data": {
      "text/plain": [
       "6561"
      ]
     },
     "execution_count": 68,
     "metadata": {},
     "output_type": "execute_result"
    }
   ],
   "source": [
    "round(pow(3,8))"
   ]
  },
  {
   "cell_type": "code",
   "execution_count": 69,
   "id": "8de385e8-1a83-46a4-9bbd-2c5c65a5e6f2",
   "metadata": {},
   "outputs": [
    {
     "data": {
      "text/plain": [
       "2"
      ]
     },
     "execution_count": 69,
     "metadata": {},
     "output_type": "execute_result"
    }
   ],
   "source": [
    "floor(2.3)"
   ]
  },
  {
   "cell_type": "code",
   "execution_count": 70,
   "id": "56f51981-17be-4982-b537-cd65800426a9",
   "metadata": {},
   "outputs": [
    {
     "data": {
      "text/plain": [
       "2"
      ]
     },
     "execution_count": 70,
     "metadata": {},
     "output_type": "execute_result"
    }
   ],
   "source": [
    "round(2.5)"
   ]
  },
  {
   "cell_type": "code",
   "execution_count": 71,
   "id": "3004918c-2200-4f07-a2ed-416a7f08619d",
   "metadata": {},
   "outputs": [
    {
     "data": {
      "text/plain": [
       "3"
      ]
     },
     "execution_count": 71,
     "metadata": {},
     "output_type": "execute_result"
    }
   ],
   "source": [
    "round(2.6)"
   ]
  },
  {
   "cell_type": "code",
   "execution_count": 72,
   "id": "d03dbbfc-9487-476c-b26c-d493af0c63fa",
   "metadata": {},
   "outputs": [],
   "source": [
    "#Input Function"
   ]
  },
  {
   "cell_type": "code",
   "execution_count": 75,
   "id": "692e7c75-0ace-4a92-b0ce-e0b20a725be1",
   "metadata": {},
   "outputs": [
    {
     "name": "stdin",
     "output_type": "stream",
     "text": [
      " 5\n",
      " 6\n"
     ]
    },
    {
     "name": "stdout",
     "output_type": "stream",
     "text": [
      "56\n"
     ]
    }
   ],
   "source": [
    "x=input()# By default it will take string data type\n",
    "y=input()\n",
    "z=x+y\n",
    "print(z)"
   ]
  },
  {
   "cell_type": "code",
   "execution_count": 77,
   "id": "bddc148a-9748-4317-82a2-f25bc3b0f6c4",
   "metadata": {},
   "outputs": [
    {
     "name": "stdin",
     "output_type": "stream",
     "text": [
      "enter the 1st number: 4\n",
      "enter the 2nd Number: 6\n"
     ]
    },
    {
     "name": "stdout",
     "output_type": "stream",
     "text": [
      "46\n"
     ]
    }
   ],
   "source": [
    "x1= input('enter the 1st number:',)\n",
    "y1=input('enter the 2nd Number:',)\n",
    "z1=x1+y1\n",
    "print(z1)"
   ]
  },
  {
   "cell_type": "code",
   "execution_count": 86,
   "id": "28d85b67-9fca-47e5-9d53-359b880b808e",
   "metadata": {},
   "outputs": [
    {
     "name": "stdin",
     "output_type": "stream",
     "text": [
      "enter 1st Number: 8\n",
      "enter 2nd number: 9\n"
     ]
    },
    {
     "name": "stdout",
     "output_type": "stream",
     "text": [
      "('the value is:', 17)\n"
     ]
    }
   ],
   "source": [
    "x1=int(input('enter 1st Number:'))\n",
    "y1=int(input('enter 2nd number:'))\n",
    "z=('the value is:',(x1+y1))\n",
    "print(z)"
   ]
  },
  {
   "cell_type": "code",
   "execution_count": null,
   "id": "e6676f81-1f99-4f0a-a3a1-73b56abeafca",
   "metadata": {},
   "outputs": [],
   "source": [
    "ch=input('enter a character:')[0]\n",
    "print(ch)"
   ]
  },
  {
   "cell_type": "code",
   "execution_count": null,
   "id": "c06abbc0-0abc-4066-82ea-a54bb604005f",
   "metadata": {},
   "outputs": [],
   "source": []
  }
 ],
 "metadata": {
  "kernelspec": {
   "display_name": "Python 3 (ipykernel)",
   "language": "python",
   "name": "python3"
  },
  "language_info": {
   "codemirror_mode": {
    "name": "ipython",
    "version": 3
   },
   "file_extension": ".py",
   "mimetype": "text/x-python",
   "name": "python",
   "nbconvert_exporter": "python",
   "pygments_lexer": "ipython3",
   "version": "3.12.7"
  }
 },
 "nbformat": 4,
 "nbformat_minor": 5
}
