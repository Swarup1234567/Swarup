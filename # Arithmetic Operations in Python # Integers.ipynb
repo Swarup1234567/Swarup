{
 "cells": [
  {
   "cell_type": "code",
   "execution_count": 1,
   "id": "9fabaad9-4979-4b5d-bcab-e54618f2ff1a",
   "metadata": {},
   "outputs": [
    {
     "name": "stdout",
     "output_type": "stream",
     "text": [
      "Addition:  3\n"
     ]
    }
   ],
   "source": [
    "print('Addition: ', 1 + 2)"
   ]
  },
  {
   "cell_type": "code",
   "execution_count": 2,
   "id": "6629fe86-1c2c-48ce-8230-ae77183b0168",
   "metadata": {},
   "outputs": [
    {
     "name": "stdout",
     "output_type": "stream",
     "text": [
      "substraction:  1\n"
     ]
    }
   ],
   "source": [
    "print('substraction: ',2-1)"
   ]
  },
  {
   "cell_type": "code",
   "execution_count": 3,
   "id": "4c8bcd60-8950-4ec1-9ea4-ca7ab513f478",
   "metadata": {},
   "outputs": [
    {
     "name": "stdout",
     "output_type": "stream",
     "text": [
      "addition : 8\n"
     ]
    }
   ],
   "source": [
    "print('addition :',3+5)"
   ]
  },
  {
   "cell_type": "code",
   "execution_count": 4,
   "id": "7180d1b4-14b2-4449-892b-1ec88099057d",
   "metadata": {},
   "outputs": [
    {
     "name": "stdout",
     "output_type": "stream",
     "text": [
      "multiplication: 6\n"
     ]
    }
   ],
   "source": [
    "print('multiplication:',2*3)"
   ]
  },
  {
   "cell_type": "code",
   "execution_count": 6,
   "id": "26ba1251-a1b2-424c-8927-891488dfc901",
   "metadata": {},
   "outputs": [
    {
     "name": "stdout",
     "output_type": "stream",
     "text": [
      "substraction: 2.0\n"
     ]
    }
   ],
   "source": [
    "print('substraction:',6/3)\n",
    "      "
   ]
  },
  {
   "cell_type": "code",
   "execution_count": 8,
   "id": "14d12720-cfa9-451a-b0fc-137b63554ca8",
   "metadata": {},
   "outputs": [
    {
     "name": "stdout",
     "output_type": "stream",
     "text": [
      "<class 'str'>\n"
     ]
    }
   ],
   "source": [
    "print(type('substraction'))"
   ]
  },
  {
   "cell_type": "code",
   "execution_count": 13,
   "id": "6a0f3ab1-482c-433e-bb70-5b9e282ab545",
   "metadata": {},
   "outputs": [
    {
     "data": {
      "text/plain": [
       "float"
      ]
     },
     "execution_count": 13,
     "metadata": {},
     "output_type": "execute_result"
    }
   ],
   "source": [
    "type(2.0)"
   ]
  },
  {
   "cell_type": "code",
   "execution_count": 10,
   "id": "185591dc-b791-47e8-a9e0-098bea02ad83",
   "metadata": {},
   "outputs": [
    {
     "name": "stdout",
     "output_type": "stream",
     "text": [
      "Division without the remainder:  3\n"
     ]
    }
   ],
   "source": [
    "print('Division without the remainder: ', 7 // 2)  #division with out remender"
   ]
  },
  {
   "cell_type": "code",
   "execution_count": 11,
   "id": "f12f93e8-0985-4851-821c-d211c01671aa",
   "metadata": {},
   "outputs": [
    {
     "name": "stdout",
     "output_type": "stream",
     "text": [
      "module: 1\n"
     ]
    }
   ],
   "source": [
    "print('module:',7%2)#gives remender"
   ]
  },
  {
   "cell_type": "code",
   "execution_count": 14,
   "id": "cad9abd7-d823-418d-86bb-ce69c1bf1656",
   "metadata": {},
   "outputs": [
    {
     "name": "stdout",
     "output_type": "stream",
     "text": [
      "Exponential:  9\n"
     ]
    }
   ],
   "source": [
    "print('Exponential: ', 3 ** 2)    "
   ]
  },
  {
   "cell_type": "code",
   "execution_count": 15,
   "id": "be193030-a0b9-41ff-8e71-ed4630e8915c",
   "metadata": {},
   "outputs": [
    {
     "name": "stdout",
     "output_type": "stream",
     "text": [
      "Floating Number,PI 3.14\n",
      "Floating Number, gravity 9.81\n"
     ]
    }
   ],
   "source": [
    "\n",
    "# Floating numbers\n",
    "print('Floating Number,PI', 3.14)\n",
    "print('Floating Number, gravity', 9.81)\n"
   ]
  },
  {
   "cell_type": "code",
   "execution_count": 16,
   "id": "8cdd78c0-8470-4efb-b76c-24094633a6fd",
   "metadata": {},
   "outputs": [
    {
     "name": "stdout",
     "output_type": "stream",
     "text": [
      "Complex number:  (1+1j)\n",
      "Multiplying complex number:  (2+0j)\n"
     ]
    }
   ],
   "source": [
    "\n",
    "# Complex numbers\n",
    "print('Complex number: ', 1 + 1j)\n",
    "print('Multiplying complex number: ',(1 + 1j) * (1-1j))\n"
   ]
  },
  {
   "cell_type": "code",
   "execution_count": 17,
   "id": "e6cef61b-232c-4ea1-b9c8-8ad48f9fc86e",
   "metadata": {},
   "outputs": [],
   "source": [
    "\n",
    " #Declaring the variable at the top first\n",
    "\n",
    "a = 3 # a is a variable name and 3 is an integer data type\n",
    "b = 2 # b is a variable name and 2 is an integer data type\n",
    "\n"
   ]
  },
  {
   "cell_type": "code",
   "execution_count": 19,
   "id": "961812dd-bd1d-4268-9b09-fb668f85765f",
   "metadata": {},
   "outputs": [
    {
     "name": "stdout",
     "output_type": "stream",
     "text": [
      "<class 'int'>\n"
     ]
    }
   ],
   "source": [
    "print(type(a))"
   ]
  },
  {
   "cell_type": "code",
   "execution_count": 22,
   "id": "96bcdd88-c207-4680-a4c2-c3104d0a3052",
   "metadata": {},
   "outputs": [],
   "source": [
    "# Arithmetic operations and assigning the result to a variable\n",
    "total = a + b\n"
   ]
  },
  {
   "cell_type": "code",
   "execution_count": 24,
   "id": "de5288f3-7732-4426-bf07-653643d8a9bd",
   "metadata": {},
   "outputs": [
    {
     "name": "stdout",
     "output_type": "stream",
     "text": [
      "11\n"
     ]
    }
   ],
   "source": [
    "a=5\n",
    "b=6\n",
    "total=a+b\n",
    "print(total)"
   ]
  },
  {
   "cell_type": "code",
   "execution_count": 25,
   "id": "869ad834-8cc0-4478-9753-01ccc0fd1288",
   "metadata": {},
   "outputs": [],
   "source": [
    "diff = a - b"
   ]
  },
  {
   "cell_type": "code",
   "execution_count": 26,
   "id": "af03ad9a-4c81-4cae-b0ee-10e53d700baa",
   "metadata": {},
   "outputs": [
    {
     "name": "stdout",
     "output_type": "stream",
     "text": [
      "-1\n"
     ]
    }
   ],
   "source": [
    "print(diff)"
   ]
  },
  {
   "cell_type": "code",
   "execution_count": 27,
   "id": "8553744f-bca3-4364-8e98-6085b5d64625",
   "metadata": {},
   "outputs": [
    {
     "name": "stdout",
     "output_type": "stream",
     "text": [
      "30\n"
     ]
    }
   ],
   "source": [
    "product = a * b\n",
    "print(product)"
   ]
  },
  {
   "cell_type": "code",
   "execution_count": 28,
   "id": "d3085dca-c89d-42d9-9d7d-7653d665f45a",
   "metadata": {},
   "outputs": [
    {
     "name": "stdout",
     "output_type": "stream",
     "text": [
      "0.8333333333333334\n"
     ]
    }
   ],
   "source": [
    "division = a / b\n",
    "print(division)"
   ]
  },
  {
   "cell_type": "code",
   "execution_count": 29,
   "id": "0bc6164d-7bdc-4858-a7ab-4bbdbcf22ae9",
   "metadata": {},
   "outputs": [
    {
     "name": "stdout",
     "output_type": "stream",
     "text": [
      "5\n"
     ]
    }
   ],
   "source": [
    "remainder = a % b\n",
    "print(remainder)"
   ]
  },
  {
   "cell_type": "code",
   "execution_count": 31,
   "id": "28ea619b-f52e-4f20-a358-77975add9ece",
   "metadata": {},
   "outputs": [
    {
     "name": "stdout",
     "output_type": "stream",
     "text": [
      "0\n"
     ]
    }
   ],
   "source": [
    "floor_division = a // b\n",
    "print(floor_division)"
   ]
  },
  {
   "cell_type": "code",
   "execution_count": 32,
   "id": "8c2d598b-ff14-4a7e-ab90-a486ae51993c",
   "metadata": {},
   "outputs": [
    {
     "name": "stdout",
     "output_type": "stream",
     "text": [
      "15625\n"
     ]
    }
   ],
   "source": [
    "exponential = a ** b\n",
    "print(exponential)"
   ]
  },
  {
   "cell_type": "code",
   "execution_count": 34,
   "id": "9921ef35-353a-4396-8c33-8154683cf358",
   "metadata": {},
   "outputs": [
    {
     "name": "stdout",
     "output_type": "stream",
     "text": [
      "a+b= 11\n"
     ]
    }
   ],
   "source": [
    "a=10\n",
    "b=5\n",
    "print('a+b=',total)"
   ]
  },
  {
   "cell_type": "code",
   "execution_count": 35,
   "id": "9906d13c-999b-4cb1-91e8-d7e2c8592e64",
   "metadata": {},
   "outputs": [
    {
     "name": "stdout",
     "output_type": "stream",
     "text": [
      "a + b =  11\n",
      "a - b =  -1\n"
     ]
    }
   ],
   "source": [
    "print('a + b = ', total)\n",
    "print('a - b = ', diff)"
   ]
  },
  {
   "cell_type": "code",
   "execution_count": 36,
   "id": "f1edc734-57e5-425c-a061-ffe819ee3eec",
   "metadata": {},
   "outputs": [
    {
     "name": "stdout",
     "output_type": "stream",
     "text": [
      "a * b =  30\n",
      "a / b =  0.8333333333333334\n",
      "a % b =  5\n",
      "a // b =  0\n",
      "a ** b =  15625\n"
     ]
    }
   ],
   "source": [
    "\n",
    "print('a * b = ', product)\n",
    "print('a / b = ', division)\n",
    "print('a % b = ', remainder)\n",
    "print('a // b = ', floor_division)\n",
    "print('a ** b = ', exponential)\n"
   ]
  },
  {
   "cell_type": "code",
   "execution_count": 37,
   "id": "138dae8d-0327-4403-a227-5689703df9b5",
   "metadata": {},
   "outputs": [],
   "source": [
    "# Declaring values and organizing them together\n"
   ]
  },
  {
   "cell_type": "code",
   "execution_count": 38,
   "id": "758b5e04-72a9-46e9-ba38-3d54baad972a",
   "metadata": {},
   "outputs": [],
   "source": [
    "num_one = 3\n",
    "num_two = 4"
   ]
  },
  {
   "cell_type": "code",
   "execution_count": 39,
   "id": "b48dc583-2d5f-4464-9d48-7de228116a46",
   "metadata": {},
   "outputs": [],
   "source": [
    "# Arithmetic operations\n",
    "total = num_one + num_two\n",
    "diff = num_two - num_one\n",
    "product = num_one * num_two\n",
    "div = num_two / num_two\n",
    "remainder = num_two % num_one\n",
    "\n"
   ]
  },
  {
   "cell_type": "code",
   "execution_count": 42,
   "id": "d523ba07-8cb4-4a0d-b808-55b195834863",
   "metadata": {},
   "outputs": [],
   "source": [
    "num_1=10\n",
    "num_2=20"
   ]
  },
  {
   "cell_type": "code",
   "execution_count": 44,
   "id": "7d0a8d9f-0b96-40fb-9de2-fdb87b1c00ec",
   "metadata": {},
   "outputs": [],
   "source": [
    "total=num_1+num_2"
   ]
  },
  {
   "cell_type": "code",
   "execution_count": 45,
   "id": "c0d9c891-badb-45fb-b847-d3658af49065",
   "metadata": {},
   "outputs": [],
   "source": [
    "num_3=20\n",
    "num_4=40\n",
    "total=num_3+num_4"
   ]
  },
  {
   "cell_type": "code",
   "execution_count": 46,
   "id": "03ec12c0-b359-4cad-9ef3-6ebf0d934821",
   "metadata": {},
   "outputs": [
    {
     "name": "stdout",
     "output_type": "stream",
     "text": [
      "60\n"
     ]
    }
   ],
   "source": [
    "print(total)"
   ]
  },
  {
   "cell_type": "code",
   "execution_count": 48,
   "id": "34266f73-eef9-456e-9bd7-131d85a1c50a",
   "metadata": {},
   "outputs": [
    {
     "name": "stdout",
     "output_type": "stream",
     "text": [
      "num_5+num_6= 60\n"
     ]
    }
   ],
   "source": [
    "num_5=60\n",
    "num_6=70\n",
    "Total=print('num_5+num_6=',total)"
   ]
  },
  {
   "cell_type": "code",
   "execution_count": 49,
   "id": "4e572825-a6d6-4d4e-a9fa-4cf7ac6c25c7",
   "metadata": {},
   "outputs": [
    {
     "name": "stdout",
     "output_type": "stream",
     "text": [
      "total:  60\n",
      "difference:  1\n",
      "product:  12\n",
      "division:  1.0\n",
      "remainder:  1\n"
     ]
    }
   ],
   "source": [
    "print('total: ', total)\n",
    "print('difference: ', diff)\n",
    "print('product: ', product)\n",
    "print('division: ', div)\n",
    "print('remainder: ', remainder)"
   ]
  },
  {
   "cell_type": "code",
   "execution_count": 50,
   "id": "0850991c-280f-4fff-af94-d940bcc45aa3",
   "metadata": {},
   "outputs": [],
   "source": [
    "#Calculating area of the circle6"
   ]
  },
  {
   "cell_type": "code",
   "execution_count": 51,
   "id": "d9bcd145-c997-4bc0-928f-fe4b2d863b02",
   "metadata": {},
   "outputs": [
    {
     "name": "stdout",
     "output_type": "stream",
     "text": [
      "area= 15.700000000000001\n"
     ]
    }
   ],
   "source": [
    "r=5\n",
    "Area=3.14*r\n",
    "print('area=',Area)"
   ]
  },
  {
   "cell_type": "code",
   "execution_count": 61,
   "id": "fb689f8c-077d-485c-a2a5-c6184ccf924b",
   "metadata": {},
   "outputs": [
    {
     "name": "stdout",
     "output_type": "stream",
     "text": [
      "Area is: 314.0\n"
     ]
    }
   ],
   "source": [
    "r=10\n",
    "area1=r*r*3.14\n",
    "print('Area is:',area1)"
   ]
  },
  {
   "cell_type": "code",
   "execution_count": null,
   "id": "3d69b223-cc52-48e8-b5a6-e8f750652289",
   "metadata": {},
   "outputs": [],
   "source": [
    "# Calculating area of a rectangle\n"
   ]
  },
  {
   "cell_type": "code",
   "execution_count": 62,
   "id": "6572e923-d93e-4867-8c2d-c13372ae45ee",
   "metadata": {},
   "outputs": [
    {
     "name": "stdout",
     "output_type": "stream",
     "text": [
      "Area of rectangle: 200\n"
     ]
    }
   ],
   "source": [
    "length = 10\n",
    "width = 20\n",
    "area_of_rectangle = length * width\n",
    "print('Area of rectangle:', area_of_rectangle)\n"
   ]
  },
  {
   "cell_type": "code",
   "execution_count": 63,
   "id": "c96cebe9-fe50-46f1-b9d5-bed93d207a57",
   "metadata": {},
   "outputs": [],
   "source": [
    "# Calculating a weight of an object\n"
   ]
  },
  {
   "cell_type": "code",
   "execution_count": 64,
   "id": "7092ac70-169b-49d2-8c6a-a39a8e0de920",
   "metadata": {},
   "outputs": [
    {
     "name": "stdout",
     "output_type": "stream",
     "text": [
      "735.75 N\n"
     ]
    }
   ],
   "source": [
    "mass = 75\n",
    "gravity = 9.81\n",
    "weight = mass * gravity\n",
    "print(weight, 'N')\n"
   ]
  },
  {
   "cell_type": "code",
   "execution_count": 65,
   "id": "21585b4b-0666-4504-963b-4a6752c5c263",
   "metadata": {},
   "outputs": [
    {
     "name": "stdout",
     "output_type": "stream",
     "text": [
      "True\n"
     ]
    }
   ],
   "source": [
    "print(3 > 2)     # True, because 3 is greater than 2"
   ]
  },
  {
   "cell_type": "code",
   "execution_count": 66,
   "id": "0d9ffbee-038a-4338-b8d9-cb0b5b933ba3",
   "metadata": {},
   "outputs": [
    {
     "name": "stdout",
     "output_type": "stream",
     "text": [
      "True\n",
      "False\n",
      "True\n",
      "True\n",
      "False\n",
      "True\n",
      "False\n",
      "True\n",
      "True\n",
      "False\n",
      "True\n",
      "True\n",
      "False\n"
     ]
    }
   ],
   "source": [
    "\n",
    "print(3 >= 2)    # True, because 3 is greater than 2\n",
    "print(3 < 2)     # False,  because 3 is greater than 2\n",
    "print(2 < 3)     # True, because 2 is less than 3\n",
    "print(2 <= 3)    # True, because 2 is less than 3\n",
    "print(3 == 2)    # False, because 3 is not equal to 2\n",
    "print(3 != 2)    # True, because 3 is not equal to 2\n",
    "print(len('mango') == len('avocado'))  # False\n",
    "print(len('mango') != len('avocado'))  # True\n",
    "print(len('mango') < len('avocado'))   # True\n",
    "print(len('milk') != len('meat'))      # False\n",
    "print(len('milk') == len('meat'))      # True\n",
    "print(len('tomato') == len('potato'))  # True\n",
    "print(len('python') > len('dragon'))   # False\n"
   ]
  },
  {
   "cell_type": "code",
   "execution_count": 67,
   "id": "701fee7c-fe50-4e0c-9da7-969676a795b4",
   "metadata": {},
   "outputs": [
    {
     "name": "stdout",
     "output_type": "stream",
     "text": [
      "True == True:  True\n",
      "True == False:  False\n",
      "False == False: True\n",
      "True and True:  True\n",
      "True or False: True\n"
     ]
    }
   ],
   "source": [
    "# Boolean comparison\n",
    "print('True == True: ', True == True)\n",
    "print('True == False: ', True == False)\n",
    "print('False == False:', False == False)\n",
    "print('True and True: ', True and True)\n",
    "print('True or False:', True or False)\n"
   ]
  },
  {
   "cell_type": "code",
   "execution_count": 68,
   "id": "0c518548-0c01-4111-bead-a6cfa42a8005",
   "metadata": {},
   "outputs": [
    {
     "name": "stdout",
     "output_type": "stream",
     "text": [
      "1 is 1 True\n",
      "1 is not 2 True\n",
      "A in Asabeneh True\n",
      "B in Asabeneh False\n",
      "True\n",
      "a in an: True\n",
      "4 is 2 ** 2: True\n"
     ]
    },
    {
     "name": "stderr",
     "output_type": "stream",
     "text": [
      "<>:2: SyntaxWarning: \"is\" with 'int' literal. Did you mean \"==\"?\n",
      "<>:3: SyntaxWarning: \"is not\" with 'int' literal. Did you mean \"!=\"?\n",
      "<>:8: SyntaxWarning: \"is\" with 'int' literal. Did you mean \"==\"?\n",
      "<>:2: SyntaxWarning: \"is\" with 'int' literal. Did you mean \"==\"?\n",
      "<>:3: SyntaxWarning: \"is not\" with 'int' literal. Did you mean \"!=\"?\n",
      "<>:8: SyntaxWarning: \"is\" with 'int' literal. Did you mean \"==\"?\n",
      "C:\\Users\\Swarup\\AppData\\Local\\Temp\\ipykernel_7408\\1930568561.py:2: SyntaxWarning: \"is\" with 'int' literal. Did you mean \"==\"?\n",
      "  print('1 is 1', 1 is 1)                   # True - because the data values are the same\n",
      "C:\\Users\\Swarup\\AppData\\Local\\Temp\\ipykernel_7408\\1930568561.py:3: SyntaxWarning: \"is not\" with 'int' literal. Did you mean \"!=\"?\n",
      "  print('1 is not 2', 1 is not 2)           # True - because 1 is not 2\n",
      "C:\\Users\\Swarup\\AppData\\Local\\Temp\\ipykernel_7408\\1930568561.py:8: SyntaxWarning: \"is\" with 'int' literal. Did you mean \"==\"?\n",
      "  print('4 is 2 ** 2:', 4 is 2 ** 2)   # True\n"
     ]
    }
   ],
   "source": [
    "# Another way comparison \n",
    "print('1 is 1', 1 is 1)                   # True - because the data values are the same\n",
    "print('1 is not 2', 1 is not 2)           # True - because 1 is not 2\n",
    "print('A in Asabeneh', 'A' in 'Asabeneh') # True - A found in the string\n",
    "print('B in Asabeneh', 'B' in 'Asabeneh') # False -there is no uppercase B\n",
    "print('coding' in 'coding for all') # True - because coding for all has the word coding\n",
    "print('a in an:', 'a' in 'an')      # True\n",
    "print('4 is 2 ** 2:', 4 is 2 ** 2)   # True\n"
   ]
  },
  {
   "cell_type": "code",
   "execution_count": null,
   "id": "e64661c2-eb7f-41a8-88e7-8995c8ce18f4",
   "metadata": {},
   "outputs": [],
   "source": []
  }
 ],
 "metadata": {
  "kernelspec": {
   "display_name": "Python 3 (ipykernel)",
   "language": "python",
   "name": "python3"
  },
  "language_info": {
   "codemirror_mode": {
    "name": "ipython",
    "version": 3
   },
   "file_extension": ".py",
   "mimetype": "text/x-python",
   "name": "python",
   "nbconvert_exporter": "python",
   "pygments_lexer": "ipython3",
   "version": "3.12.7"
  }
 },
 "nbformat": 4,
 "nbformat_minor": 5
}
