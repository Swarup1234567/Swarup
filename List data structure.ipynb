{
 "cells": [
  {
   "cell_type": "code",
   "execution_count": 1,
   "id": "436d59e4-4184-4e64-a6a2-b5bd0c087dcc",
   "metadata": {},
   "outputs": [],
   "source": [
    "#List rest of the part"
   ]
  },
  {
   "cell_type": "code",
   "execution_count": 2,
   "id": "5900db0d-16f7-4cbe-8fe5-370aacd5a6f8",
   "metadata": {},
   "outputs": [
    {
     "data": {
      "text/plain": [
       "[]"
      ]
     },
     "execution_count": 2,
     "metadata": {},
     "output_type": "execute_result"
    }
   ],
   "source": [
    "l = []\n",
    "l"
   ]
  },
  {
   "cell_type": "code",
   "execution_count": 3,
   "id": "593034da-b449-438e-ab63-1f268665d0fb",
   "metadata": {},
   "outputs": [
    {
     "data": {
      "text/plain": [
       "list"
      ]
     },
     "execution_count": 3,
     "metadata": {},
     "output_type": "execute_result"
    }
   ],
   "source": [
    "type(l)"
   ]
  },
  {
   "cell_type": "code",
   "execution_count": 5,
   "id": "e7c2d0f6-9dba-4cd4-9f7e-5770a41babd0",
   "metadata": {},
   "outputs": [
    {
     "data": {
      "text/plain": [
       "0"
      ]
     },
     "execution_count": 5,
     "metadata": {},
     "output_type": "execute_result"
    }
   ],
   "source": [
    "len(l)#as it's a empty list"
   ]
  },
  {
   "cell_type": "code",
   "execution_count": 6,
   "id": "cca832c8-7b62-4931-9e1e-6731f43a67d0",
   "metadata": {},
   "outputs": [],
   "source": [
    "l.append(10)#append function to add element at last of the list"
   ]
  },
  {
   "cell_type": "code",
   "execution_count": 7,
   "id": "789c132c-8a3a-4153-a6e2-3f90790627f7",
   "metadata": {},
   "outputs": [],
   "source": [
    "l.append(20)\n",
    "l.append(30)\n",
    "l.append(40)\n",
    "l.append(50)"
   ]
  },
  {
   "cell_type": "code",
   "execution_count": 8,
   "id": "cd0a1f91-685a-42d5-bce3-9e8b15770fb5",
   "metadata": {},
   "outputs": [
    {
     "name": "stdout",
     "output_type": "stream",
     "text": [
      "[10, 20, 30, 40, 50]\n"
     ]
    }
   ],
   "source": [
    "print(l)"
   ]
  },
  {
   "cell_type": "code",
   "execution_count": 9,
   "id": "0fbcb8be-4fbb-4ad1-9423-8c8003251a9f",
   "metadata": {},
   "outputs": [
    {
     "data": {
      "text/plain": [
       "10"
      ]
     },
     "execution_count": 9,
     "metadata": {},
     "output_type": "execute_result"
    }
   ],
   "source": [
    "l[0]"
   ]
  },
  {
   "cell_type": "code",
   "execution_count": 10,
   "id": "63adf8fb-e9ab-44a9-a022-be5ab7b4b055",
   "metadata": {},
   "outputs": [
    {
     "data": {
      "text/plain": [
       "50"
      ]
     },
     "execution_count": 10,
     "metadata": {},
     "output_type": "execute_result"
    }
   ],
   "source": [
    "l[4]"
   ]
  },
  {
   "cell_type": "code",
   "execution_count": 11,
   "id": "4dd7a7b9-c848-48c2-b7dc-3fe9564aabb9",
   "metadata": {},
   "outputs": [
    {
     "data": {
      "text/plain": [
       "30"
      ]
     },
     "execution_count": 11,
     "metadata": {},
     "output_type": "execute_result"
    }
   ],
   "source": [
    "l[2]"
   ]
  },
  {
   "cell_type": "code",
   "execution_count": 12,
   "id": "76790a5b-ca9e-435a-8463-f57345252864",
   "metadata": {},
   "outputs": [
    {
     "data": {
      "text/plain": [
       "5"
      ]
     },
     "execution_count": 12,
     "metadata": {},
     "output_type": "execute_result"
    }
   ],
   "source": [
    "len(l)"
   ]
  },
  {
   "cell_type": "code",
   "execution_count": 29,
   "id": "46dc3094-4ce9-40c5-92dc-421def54bade",
   "metadata": {},
   "outputs": [],
   "source": [
    "l3=[]"
   ]
  },
  {
   "cell_type": "code",
   "execution_count": 31,
   "id": "2abf2591-8f18-48cd-b53b-0b57a0404201",
   "metadata": {},
   "outputs": [],
   "source": [
    "l3.append(10)\n",
    "l3.append('abc')\n",
    "l3.append(123)\n",
    "l3.append(10+20j)\n",
    "l3.append(True)\n",
    "l3.append([10,20,30,40,50])"
   ]
  },
  {
   "cell_type": "code",
   "execution_count": 32,
   "id": "9d5b04bf-b294-4c77-91a4-cc8badc5b853",
   "metadata": {},
   "outputs": [
    {
     "data": {
      "text/plain": [
       "[10, 'abc', 123, (10+20j), True, [10, 20, 30, 40, 50]]"
      ]
     },
     "execution_count": 32,
     "metadata": {},
     "output_type": "execute_result"
    }
   ],
   "source": [
    "l3"
   ]
  },
  {
   "cell_type": "code",
   "execution_count": 33,
   "id": "26d1ef5e-ed5d-4585-9d92-ff75185b8683",
   "metadata": {},
   "outputs": [
    {
     "name": "stdout",
     "output_type": "stream",
     "text": [
      "2241316262016\n"
     ]
    }
   ],
   "source": [
    "print(id(l1))"
   ]
  },
  {
   "cell_type": "code",
   "execution_count": 35,
   "id": "a80665b2-5b50-4d68-beaa-b517d06befb8",
   "metadata": {},
   "outputs": [
    {
     "name": "stdout",
     "output_type": "stream",
     "text": [
      "2241316544576\n"
     ]
    }
   ],
   "source": [
    "print(id(l2))"
   ]
  },
  {
   "cell_type": "code",
   "execution_count": 36,
   "id": "6cbe770c-737e-4fe9-b988-5ba340ca5990",
   "metadata": {},
   "outputs": [
    {
     "name": "stdout",
     "output_type": "stream",
     "text": [
      "2241307252736\n"
     ]
    }
   ],
   "source": [
    "print(id(l3))"
   ]
  },
  {
   "cell_type": "code",
   "execution_count": 38,
   "id": "b04b4681-3e4a-4c60-aa0c-449100f3a4c0",
   "metadata": {},
   "outputs": [
    {
     "name": "stdout",
     "output_type": "stream",
     "text": [
      "5\n",
      "6\n"
     ]
    }
   ],
   "source": [
    "print(len(l))\n",
    "print(len(l3))"
   ]
  },
  {
   "cell_type": "code",
   "execution_count": 41,
   "id": "a2223dda-77bc-47c5-930e-e2dc2d401cf1",
   "metadata": {},
   "outputs": [],
   "source": [
    "l2=l3.copy()"
   ]
  },
  {
   "cell_type": "code",
   "execution_count": 42,
   "id": "3cfea043-ac54-487b-9681-eea54621f913",
   "metadata": {},
   "outputs": [
    {
     "data": {
      "text/plain": [
       "[10, 'abc', 123, (10+20j), True, [10, 20, 30, 40, 50]]"
      ]
     },
     "execution_count": 42,
     "metadata": {},
     "output_type": "execute_result"
    }
   ],
   "source": [
    "l2"
   ]
  },
  {
   "cell_type": "code",
   "execution_count": 43,
   "id": "edee8c15-1d51-4f63-a0b5-edbfb16ba6a4",
   "metadata": {},
   "outputs": [
    {
     "data": {
      "text/plain": [
       "True"
      ]
     },
     "execution_count": 43,
     "metadata": {},
     "output_type": "execute_result"
    }
   ],
   "source": [
    "l2==l3"
   ]
  },
  {
   "cell_type": "code",
   "execution_count": 44,
   "id": "db12bded-5e1d-4612-bd53-e5f45388e0c6",
   "metadata": {},
   "outputs": [
    {
     "name": "stdout",
     "output_type": "stream",
     "text": [
      "2241316770304\n",
      "2241307252736\n"
     ]
    },
    {
     "data": {
      "text/plain": [
       "True"
      ]
     },
     "execution_count": 44,
     "metadata": {},
     "output_type": "execute_result"
    }
   ],
   "source": [
    "print(id(l2)) == print(id(l3))"
   ]
  },
  {
   "cell_type": "code",
   "execution_count": 45,
   "id": "79dae8ee-b502-421d-b0e0-48690e10610f",
   "metadata": {},
   "outputs": [],
   "source": [
    "#String Indexing\n"
   ]
  },
  {
   "cell_type": "code",
   "execution_count": 46,
   "id": "940eb202-9d2f-42f1-a82b-136d63a111f5",
   "metadata": {},
   "outputs": [],
   "source": [
    "s8='Swarup Nandi'"
   ]
  },
  {
   "cell_type": "code",
   "execution_count": 47,
   "id": "2d056489-4fed-4229-ad1b-0e52f71d651d",
   "metadata": {},
   "outputs": [
    {
     "data": {
      "text/plain": [
       "'a'"
      ]
     },
     "execution_count": 47,
     "metadata": {},
     "output_type": "execute_result"
    }
   ],
   "source": [
    "s8[2]"
   ]
  },
  {
   "cell_type": "code",
   "execution_count": 48,
   "id": "deda4643-0efe-475f-8006-db850248ac12",
   "metadata": {},
   "outputs": [
    {
     "data": {
      "text/plain": [
       "'d'"
      ]
     },
     "execution_count": 48,
     "metadata": {},
     "output_type": "execute_result"
    }
   ],
   "source": [
    "s8[10]"
   ]
  },
  {
   "cell_type": "code",
   "execution_count": 49,
   "id": "6e388751-dbdb-4774-b5bf-2abd99fc725b",
   "metadata": {},
   "outputs": [
    {
     "data": {
      "text/plain": [
       "' '"
      ]
     },
     "execution_count": 49,
     "metadata": {},
     "output_type": "execute_result"
    }
   ],
   "source": [
    "s8[6]"
   ]
  },
  {
   "cell_type": "code",
   "execution_count": 50,
   "id": "7cf47a56-21ea-4545-a9ce-ba9287b3ddd2",
   "metadata": {},
   "outputs": [
    {
     "data": {
      "text/plain": [
       "'r'"
      ]
     },
     "execution_count": 50,
     "metadata": {},
     "output_type": "execute_result"
    }
   ],
   "source": [
    "s8[-9]"
   ]
  },
  {
   "cell_type": "code",
   "execution_count": 52,
   "id": "a21dabec-b8f1-46d3-9170-2ce582ede642",
   "metadata": {},
   "outputs": [
    {
     "data": {
      "text/plain": [
       "'rup '"
      ]
     },
     "execution_count": 52,
     "metadata": {},
     "output_type": "execute_result"
    }
   ],
   "source": [
    "s8[-9:-5]"
   ]
  },
  {
   "cell_type": "code",
   "execution_count": 59,
   "id": "7190f75e-4cd7-4fdc-88bd-a90cf38faa1d",
   "metadata": {},
   "outputs": [
    {
     "ename": "AttributeError",
     "evalue": "'builtin_function_or_method' object has no attribute 'reverse'",
     "output_type": "error",
     "traceback": [
      "\u001b[1;31m---------------------------------------------------------------------------\u001b[0m",
      "\u001b[1;31mAttributeError\u001b[0m                            Traceback (most recent call last)",
      "Cell \u001b[1;32mIn[59], line 1\u001b[0m\n\u001b[1;32m----> 1\u001b[0m l1\u001b[38;5;241m=\u001b[39ml3\u001b[38;5;241m.\u001b[39mreverse()\n",
      "\u001b[1;31mAttributeError\u001b[0m: 'builtin_function_or_method' object has no attribute 'reverse'"
     ]
    }
   ],
   "source": [
    "l1=l3.reverse()"
   ]
  },
  {
   "cell_type": "code",
   "execution_count": 54,
   "id": "d173b592-f182-475e-94bd-529fd91122c8",
   "metadata": {},
   "outputs": [
    {
     "data": {
      "text/plain": [
       "<function list.reverse()>"
      ]
     },
     "execution_count": 54,
     "metadata": {},
     "output_type": "execute_result"
    }
   ],
   "source": [
    "l3"
   ]
  },
  {
   "cell_type": "code",
   "execution_count": 61,
   "id": "14350823-6cb8-4368-bf44-57124cbf27fc",
   "metadata": {},
   "outputs": [
    {
     "data": {
      "text/plain": [
       "<function list.reverse()>"
      ]
     },
     "execution_count": 61,
     "metadata": {},
     "output_type": "execute_result"
    }
   ],
   "source": [
    "l3"
   ]
  },
  {
   "cell_type": "code",
   "execution_count": 62,
   "id": "9376c1d1-6c0e-4036-b34c-942aa1046225",
   "metadata": {},
   "outputs": [],
   "source": [
    "l4=[]"
   ]
  },
  {
   "cell_type": "code",
   "execution_count": 63,
   "id": "3649ef1d-d2e3-4e01-8768-6c4fba2c5311",
   "metadata": {},
   "outputs": [],
   "source": [
    "l4.append(10)\n",
    "l4.append('abc')\n",
    "l4.append(123)\n",
    "l4.append(10+20j)\n",
    "l4.append(True)\n",
    "l4.append([10,20,30,40,50])"
   ]
  },
  {
   "cell_type": "code",
   "execution_count": 64,
   "id": "a699bf6a-2d1e-4ede-b10d-545d236cd92d",
   "metadata": {},
   "outputs": [
    {
     "data": {
      "text/plain": [
       "[10, 'abc', 123, (10+20j), True, [10, 20, 30, 40, 50]]"
      ]
     },
     "execution_count": 64,
     "metadata": {},
     "output_type": "execute_result"
    }
   ],
   "source": [
    "l4"
   ]
  },
  {
   "cell_type": "code",
   "execution_count": 65,
   "id": "6e14e6d7-ffa4-4093-8cf8-f6b0fbafd927",
   "metadata": {},
   "outputs": [],
   "source": [
    "l5=l4.reverse()"
   ]
  },
  {
   "cell_type": "code",
   "execution_count": 68,
   "id": "6b4bbe87-f9c3-4bda-af41-f5182c0eeb48",
   "metadata": {},
   "outputs": [],
   "source": [
    "l5"
   ]
  },
  {
   "cell_type": "code",
   "execution_count": 69,
   "id": "58edfdf6-4419-4a19-8fb3-05a7218da5b1",
   "metadata": {},
   "outputs": [
    {
     "name": "stdout",
     "output_type": "stream",
     "text": [
      "None\n"
     ]
    }
   ],
   "source": [
    "print(l5)"
   ]
  },
  {
   "cell_type": "code",
   "execution_count": 70,
   "id": "42489d05-9dbd-498d-84d9-02a9328f84c0",
   "metadata": {},
   "outputs": [
    {
     "data": {
      "text/plain": [
       "[[10, 20, 30, 40, 50], True, (10+20j), 123, 'abc', 10]"
      ]
     },
     "execution_count": 70,
     "metadata": {},
     "output_type": "execute_result"
    }
   ],
   "source": [
    "l4"
   ]
  },
  {
   "cell_type": "code",
   "execution_count": 71,
   "id": "605f78b2-79bc-4c84-9b56-d8e23f2c6909",
   "metadata": {},
   "outputs": [],
   "source": [
    "l5"
   ]
  },
  {
   "cell_type": "code",
   "execution_count": 72,
   "id": "892f0df7-1576-40fc-ba24-8a106d941870",
   "metadata": {},
   "outputs": [],
   "source": [
    "l6=l4.reverse()"
   ]
  },
  {
   "cell_type": "code",
   "execution_count": 73,
   "id": "57be8ef6-bbe4-4e3e-a37d-5dcfe1642524",
   "metadata": {},
   "outputs": [
    {
     "data": {
      "text/plain": [
       "[10, 'abc', 123, (10+20j), True, [10, 20, 30, 40, 50]]"
      ]
     },
     "execution_count": 73,
     "metadata": {},
     "output_type": "execute_result"
    }
   ],
   "source": [
    "l4"
   ]
  },
  {
   "cell_type": "code",
   "execution_count": 77,
   "id": "f021b06c-8e14-4557-b3d0-663c0a75a5c0",
   "metadata": {},
   "outputs": [
    {
     "data": {
      "text/plain": [
       "1"
      ]
     },
     "execution_count": 77,
     "metadata": {},
     "output_type": "execute_result"
    }
   ],
   "source": [
    "l4.count('abc')#How many time one element is there"
   ]
  },
  {
   "cell_type": "code",
   "execution_count": 82,
   "id": "0f618dec-8aaa-41d3-831a-54d67d7ba436",
   "metadata": {},
   "outputs": [
    {
     "data": {
      "text/plain": [
       "2"
      ]
     },
     "execution_count": 82,
     "metadata": {},
     "output_type": "execute_result"
    }
   ],
   "source": [
    "l4.index(123)#showing the indexing of tyhe element"
   ]
  },
  {
   "cell_type": "code",
   "execution_count": 83,
   "id": "d884174f-97e9-4f1a-86c2-c995eed3fcc4",
   "metadata": {},
   "outputs": [],
   "source": [
    "l4.remove(123)#To remove any element"
   ]
  },
  {
   "cell_type": "code",
   "execution_count": 84,
   "id": "5eaed0c0-f831-4965-9f64-5669e3853d55",
   "metadata": {},
   "outputs": [
    {
     "data": {
      "text/plain": [
       "[10, 'abc', (10+20j), True, [10, 20, 30, 40, 50]]"
      ]
     },
     "execution_count": 84,
     "metadata": {},
     "output_type": "execute_result"
    }
   ],
   "source": [
    "l4"
   ]
  },
  {
   "cell_type": "code",
   "execution_count": 85,
   "id": "eb2c638b-385a-4261-8ece-c9c5a6e7c1eb",
   "metadata": {},
   "outputs": [
    {
     "data": {
      "text/plain": [
       "'abc'"
      ]
     },
     "execution_count": 85,
     "metadata": {},
     "output_type": "execute_result"
    }
   ],
   "source": [
    "l4.pop(True)#It will delete and aReturen the value"
   ]
  },
  {
   "cell_type": "code",
   "execution_count": 88,
   "id": "7ebc3486-20ac-45bb-ae88-2c82f985f810",
   "metadata": {},
   "outputs": [],
   "source": [
    "l4.insert(1,'abc')"
   ]
  },
  {
   "cell_type": "code",
   "execution_count": 89,
   "id": "7dab1faf-c55e-4ee9-8114-45e47876961d",
   "metadata": {},
   "outputs": [
    {
     "data": {
      "text/plain": [
       "[10, 'abc', (10+20j), True, [10, 20, 30, 40, 50]]"
      ]
     },
     "execution_count": 89,
     "metadata": {},
     "output_type": "execute_result"
    }
   ],
   "source": [
    "l4"
   ]
  },
  {
   "cell_type": "code",
   "execution_count": 90,
   "id": "27a10c8f-9cc9-46a9-930e-b168499496e5",
   "metadata": {},
   "outputs": [],
   "source": [
    "l4.insert(1, 123)# to insert value in a perticular index"
   ]
  },
  {
   "cell_type": "code",
   "execution_count": 91,
   "id": "c72dad81-bbae-40c7-960d-7f5db8808da9",
   "metadata": {},
   "outputs": [
    {
     "data": {
      "text/plain": [
       "[10, 123, 'abc', (10+20j), True, [10, 20, 30, 40, 50]]"
      ]
     },
     "execution_count": 91,
     "metadata": {},
     "output_type": "execute_result"
    }
   ],
   "source": [
    "l4"
   ]
  },
  {
   "cell_type": "code",
   "execution_count": 92,
   "id": "69df93e4-31e7-4aad-b57e-d316558868e3",
   "metadata": {},
   "outputs": [],
   "source": [
    "l4.extend(l1)# to join to list"
   ]
  },
  {
   "cell_type": "code",
   "execution_count": 93,
   "id": "2cd99c22-d4f3-4c16-a114-0d33de9f2a98",
   "metadata": {},
   "outputs": [
    {
     "data": {
      "text/plain": [
       "[10,\n",
       " 123,\n",
       " 'abc',\n",
       " (10+20j),\n",
       " True,\n",
       " [10, 20, 30, 40, 50],\n",
       " 10,\n",
       " 'abc',\n",
       " 123,\n",
       " (10+20j),\n",
       " True,\n",
       " [10, 20, 30, 40, 50],\n",
       " 10,\n",
       " 'abc',\n",
       " 123,\n",
       " (10+20j),\n",
       " True,\n",
       " [10, 20, 30, 40, 50]]"
      ]
     },
     "execution_count": 93,
     "metadata": {},
     "output_type": "execute_result"
    }
   ],
   "source": [
    "l4"
   ]
  },
  {
   "cell_type": "code",
   "execution_count": 95,
   "id": "94a9f7e2-4f2f-45d0-9841-063a1162bc1d",
   "metadata": {},
   "outputs": [
    {
     "name": "stdout",
     "output_type": "stream",
     "text": [
      "10\n",
      "123\n",
      "abc\n",
      "(10+20j)\n",
      "True\n",
      "[10, 20, 30, 40, 50]\n",
      "10\n",
      "abc\n",
      "123\n",
      "(10+20j)\n",
      "True\n",
      "[10, 20, 30, 40, 50]\n",
      "10\n",
      "abc\n",
      "123\n",
      "(10+20j)\n",
      "True\n",
      "[10, 20, 30, 40, 50]\n"
     ]
    }
   ],
   "source": [
    "for i in l4:\n",
    "    print(i)"
   ]
  },
  {
   "cell_type": "code",
   "execution_count": 96,
   "id": "49a4138d-d6c4-4fa0-8255-071a96f893d7",
   "metadata": {},
   "outputs": [
    {
     "ename": "SyntaxError",
     "evalue": "invalid syntax (399647095.py, line 2)",
     "output_type": "error",
     "traceback": [
      "\u001b[1;36m  Cell \u001b[1;32mIn[96], line 2\u001b[1;36m\u001b[0m\n\u001b[1;33m    enumerate l4\u001b[0m\n\u001b[1;37m              ^\u001b[0m\n\u001b[1;31mSyntaxError\u001b[0m\u001b[1;31m:\u001b[0m invalid syntax\n"
     ]
    }
   ],
   "source": [
    "for i in enumerate(l4)\n",
    "    print i"
   ]
  },
  {
   "cell_type": "code",
   "execution_count": null,
   "id": "f039a7e2-c39a-4244-80fb-8d2735348388",
   "metadata": {},
   "outputs": [],
   "source": []
  }
 ],
 "metadata": {
  "kernelspec": {
   "display_name": "Python 3 (ipykernel)",
   "language": "python",
   "name": "python3"
  },
  "language_info": {
   "codemirror_mode": {
    "name": "ipython",
    "version": 3
   },
   "file_extension": ".py",
   "mimetype": "text/x-python",
   "name": "python",
   "nbconvert_exporter": "python",
   "pygments_lexer": "ipython3",
   "version": "3.12.7"
  }
 },
 "nbformat": 4,
 "nbformat_minor": 5
}
