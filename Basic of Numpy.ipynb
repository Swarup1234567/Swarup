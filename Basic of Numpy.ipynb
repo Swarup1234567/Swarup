{
 "cells": [
  {
   "cell_type": "raw",
   "id": "6911ccf6-fbea-4b81-be5b-54062b14ec12",
   "metadata": {},
   "source": [
    "Numpy\n"
   ]
  },
  {
   "cell_type": "code",
   "execution_count": 1,
   "id": "cee4750b-b47e-467c-94a6-7490d5fbfa00",
   "metadata": {},
   "outputs": [],
   "source": [
    "import numpy as np\n",
    "\n",
    "npp = np.nan"
   ]
  },
  {
   "cell_type": "code",
   "execution_count": 2,
   "id": "45dd1ee9-6524-41bd-b037-fd532fd54895",
   "metadata": {},
   "outputs": [
    {
     "name": "stdout",
     "output_type": "stream",
     "text": [
      "nan\n"
     ]
    }
   ],
   "source": [
    "print (npp)"
   ]
  },
  {
   "cell_type": "code",
   "execution_count": 4,
   "id": "c4a0cb8a-4adc-4f50-9336-e67d48f595ed",
   "metadata": {},
   "outputs": [
    {
     "data": {
      "text/plain": [
       "float"
      ]
     },
     "execution_count": 4,
     "metadata": {},
     "output_type": "execute_result"
    }
   ],
   "source": [
    "type(npp)"
   ]
  },
  {
   "cell_type": "code",
   "execution_count": 7,
   "id": "025008d0-ed40-4e68-a307-81e7d16caca6",
   "metadata": {},
   "outputs": [],
   "source": [
    "l4=[400,30,2]"
   ]
  },
  {
   "cell_type": "code",
   "execution_count": 8,
   "id": "ba7816bd-a63e-4a18-9163-c5206e50f1a7",
   "metadata": {},
   "outputs": [
    {
     "data": {
      "text/plain": [
       "[400, 30, 2]"
      ]
     },
     "execution_count": 8,
     "metadata": {},
     "output_type": "execute_result"
    }
   ],
   "source": [
    "l4"
   ]
  },
  {
   "cell_type": "code",
   "execution_count": 9,
   "id": "742284bf-23b6-4b52-b9b1-1675591315d9",
   "metadata": {},
   "outputs": [
    {
     "data": {
      "text/plain": [
       "list"
      ]
     },
     "execution_count": 9,
     "metadata": {},
     "output_type": "execute_result"
    }
   ],
   "source": [
    "type(l4)"
   ]
  },
  {
   "cell_type": "code",
   "execution_count": null,
   "id": "ec5b771b-96be-44cc-9fb5-80657aa53cd1",
   "metadata": {},
   "outputs": [],
   "source": [
    "#Parameter Tuning"
   ]
  },
  {
   "cell_type": "code",
   "execution_count": 10,
   "id": "2599d996-e2e6-479a-9016-e71d0c14c141",
   "metadata": {},
   "outputs": [],
   "source": [
    "l4.sort()# Assending order"
   ]
  },
  {
   "cell_type": "code",
   "execution_count": 11,
   "id": "8ff4ea68-b56f-464b-bb74-55c6eb374b53",
   "metadata": {},
   "outputs": [
    {
     "data": {
      "text/plain": [
       "[2, 30, 400]"
      ]
     },
     "execution_count": 11,
     "metadata": {},
     "output_type": "execute_result"
    }
   ],
   "source": [
    "l4"
   ]
  },
  {
   "cell_type": "code",
   "execution_count": 12,
   "id": "91650239-c37a-4950-9694-44b0fce1662c",
   "metadata": {},
   "outputs": [],
   "source": [
    "l4.sort(reverse=True)"
   ]
  },
  {
   "cell_type": "code",
   "execution_count": 13,
   "id": "c4f1c965-511c-4ab1-b7b8-5d4e8bac274b",
   "metadata": {},
   "outputs": [
    {
     "data": {
      "text/plain": [
       "[400, 30, 2]"
      ]
     },
     "execution_count": 13,
     "metadata": {},
     "output_type": "execute_result"
    }
   ],
   "source": [
    "l4"
   ]
  },
  {
   "cell_type": "code",
   "execution_count": 15,
   "id": "0865a122-d88a-4f69-bbcd-6f75f574dd8d",
   "metadata": {},
   "outputs": [],
   "source": [
    "l5=[10,27,78356,8725,832545,762544,2432,82356,926762,982625,623434,823534,825432,47846,624234]"
   ]
  },
  {
   "cell_type": "markdown",
   "id": "a526af47-e724-4851-a81f-34c5080822b4",
   "metadata": {},
   "source": [
    "l5"
   ]
  },
  {
   "cell_type": "code",
   "execution_count": 16,
   "id": "8cab3e04-a4af-4213-aea2-75160313c4b2",
   "metadata": {},
   "outputs": [
    {
     "data": {
      "text/plain": [
       "[10,\n",
       " 27,\n",
       " 78356,\n",
       " 8725,\n",
       " 832545,\n",
       " 762544,\n",
       " 2432,\n",
       " 82356,\n",
       " 926762,\n",
       " 982625,\n",
       " 623434,\n",
       " 823534,\n",
       " 825432,\n",
       " 47846,\n",
       " 624234]"
      ]
     },
     "execution_count": 16,
     "metadata": {},
     "output_type": "execute_result"
    }
   ],
   "source": [
    "l5"
   ]
  },
  {
   "cell_type": "code",
   "execution_count": 17,
   "id": "c192b53f-ea4e-4460-96a4-d9b28ef64844",
   "metadata": {},
   "outputs": [],
   "source": [
    "l5.sort()"
   ]
  },
  {
   "cell_type": "code",
   "execution_count": 18,
   "id": "5109394d-4274-4218-89ff-edc6a2016ac8",
   "metadata": {},
   "outputs": [
    {
     "data": {
      "text/plain": [
       "[10,\n",
       " 27,\n",
       " 2432,\n",
       " 8725,\n",
       " 47846,\n",
       " 78356,\n",
       " 82356,\n",
       " 623434,\n",
       " 624234,\n",
       " 762544,\n",
       " 823534,\n",
       " 825432,\n",
       " 832545,\n",
       " 926762,\n",
       " 982625]"
      ]
     },
     "execution_count": 18,
     "metadata": {},
     "output_type": "execute_result"
    }
   ],
   "source": [
    "l5"
   ]
  },
  {
   "cell_type": "code",
   "execution_count": null,
   "id": "4332aca2-f26d-4042-b19c-ea5cf36135b7",
   "metadata": {},
   "outputs": [],
   "source": [
    "l"
   ]
  }
 ],
 "metadata": {
  "kernelspec": {
   "display_name": "Python 3 (ipykernel)",
   "language": "python",
   "name": "python3"
  },
  "language_info": {
   "codemirror_mode": {
    "name": "ipython",
    "version": 3
   },
   "file_extension": ".py",
   "mimetype": "text/x-python",
   "name": "python",
   "nbconvert_exporter": "python",
   "pygments_lexer": "ipython3",
   "version": "3.12.7"
  }
 },
 "nbformat": 4,
 "nbformat_minor": 5
}
