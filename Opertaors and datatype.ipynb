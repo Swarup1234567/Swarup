{
 "cells": [
  {
   "cell_type": "code",
   "execution_count": null,
   "id": "ccbe916e-ef23-4abf-94a6-2bbb68ab767f",
   "metadata": {},
   "outputs": [],
   "source": [
    "#Arithmatical Operators"
   ]
  },
  {
   "cell_type": "code",
   "execution_count": 1,
   "id": "c4c75145-4ece-44ef-8ec7-d84d78a4fcfe",
   "metadata": {},
   "outputs": [
    {
     "name": "stdout",
     "output_type": "stream",
     "text": [
      "5\n"
     ]
    }
   ],
   "source": [
    "print(3 + 2)   # addition(+)"
   ]
  },
  {
   "cell_type": "code",
   "execution_count": 2,
   "id": "1ca43b15-2079-40b8-8e7c-d2144ed76b19",
   "metadata": {},
   "outputs": [
    {
     "name": "stdout",
     "output_type": "stream",
     "text": [
      "1\n"
     ]
    }
   ],
   "source": [
    "print(3 - 2)   # subtraction(-)"
   ]
  },
  {
   "cell_type": "code",
   "execution_count": 3,
   "id": "db789afe-d253-421d-862b-37c6088ec4b3",
   "metadata": {},
   "outputs": [
    {
     "name": "stdout",
     "output_type": "stream",
     "text": [
      "6\n"
     ]
    }
   ],
   "source": [
    "print(3 * 2)   # multiplication(*)"
   ]
  },
  {
   "cell_type": "code",
   "execution_count": 4,
   "id": "b9792413-71de-4f60-b2b7-6a9331bb30ad",
   "metadata": {},
   "outputs": [
    {
     "name": "stdout",
     "output_type": "stream",
     "text": [
      "1.5\n"
     ]
    }
   ],
   "source": [
    "print(3 / 2)   # division(/)"
   ]
  },
  {
   "cell_type": "code",
   "execution_count": 5,
   "id": "3cfa72ad-9c69-4308-b85d-49a51f2086c7",
   "metadata": {},
   "outputs": [
    {
     "name": "stdout",
     "output_type": "stream",
     "text": [
      "9\n"
     ]
    }
   ],
   "source": [
    "print(3 ** 2)  # exponential(**)"
   ]
  },
  {
   "cell_type": "code",
   "execution_count": 6,
   "id": "97882597-61e5-4b69-8fb0-850ab66aaad4",
   "metadata": {},
   "outputs": [
    {
     "name": "stdout",
     "output_type": "stream",
     "text": [
      "1\n"
     ]
    }
   ],
   "source": [
    "print(3 % 2)   # modulus(%)"
   ]
  },
  {
   "cell_type": "code",
   "execution_count": 7,
   "id": "46e57c54-a452-4c0d-8c20-3c7f6fc2075d",
   "metadata": {},
   "outputs": [
    {
     "name": "stdout",
     "output_type": "stream",
     "text": [
      "1\n",
      "1\n"
     ]
    }
   ],
   "source": [
    "print(3 % 2)   # modulus(%)\n",
    "print(3 // 2)  # Floor division operator(//)"
   ]
  },
  {
   "cell_type": "code",
   "execution_count": 8,
   "id": "583e7d73-02f7-49d9-b4d2-ba6b5fe63bf8",
   "metadata": {},
   "outputs": [],
   "source": [
    "\n",
    "# Checking data types\n"
   ]
  },
  {
   "cell_type": "code",
   "execution_count": 9,
   "id": "9ace336f-3938-46fd-a5fe-1bb7aeef9259",
   "metadata": {},
   "outputs": [
    {
     "name": "stdout",
     "output_type": "stream",
     "text": [
      "<class 'int'>\n"
     ]
    }
   ],
   "source": [
    "print(type(10))                  # Int"
   ]
  },
  {
   "cell_type": "code",
   "execution_count": 10,
   "id": "d718c6c4-488e-4d0e-b48a-36827798fa04",
   "metadata": {},
   "outputs": [
    {
     "name": "stdout",
     "output_type": "stream",
     "text": [
      "<class 'float'>\n"
     ]
    }
   ],
   "source": [
    "print(type(3.14))                # Float"
   ]
  },
  {
   "cell_type": "code",
   "execution_count": 11,
   "id": "d68962dd-5ba8-443d-b735-6cc140fd0f6c",
   "metadata": {},
   "outputs": [
    {
     "name": "stdout",
     "output_type": "stream",
     "text": [
      "<class 'complex'>\n"
     ]
    }
   ],
   "source": [
    "print(type(1 + 3j))              # Complex"
   ]
  },
  {
   "cell_type": "code",
   "execution_count": 12,
   "id": "722d8d1a-b7aa-4b39-a131-c4774d2717d7",
   "metadata": {},
   "outputs": [
    {
     "name": "stdout",
     "output_type": "stream",
     "text": [
      "<class 'str'>\n"
     ]
    }
   ],
   "source": [
    "print(type('Asabeneh'))          # String"
   ]
  },
  {
   "cell_type": "code",
   "execution_count": 13,
   "id": "9d0f106f-bff4-43a0-b63d-ac15ddd4acff",
   "metadata": {},
   "outputs": [
    {
     "name": "stdout",
     "output_type": "stream",
     "text": [
      "<class 'list'>\n"
     ]
    }
   ],
   "source": [
    "print(type([1, 2, 3]))           # List"
   ]
  },
  {
   "cell_type": "code",
   "execution_count": 14,
   "id": "cd7aaa50-5471-406a-abd1-124eb7495792",
   "metadata": {},
   "outputs": [
    {
     "name": "stdout",
     "output_type": "stream",
     "text": [
      "<class 'dict'>\n"
     ]
    }
   ],
   "source": [
    "print(type({'name':'Asabeneh'})) # Dictionary"
   ]
  },
  {
   "cell_type": "code",
   "execution_count": 15,
   "id": "39032c95-f14a-49b8-a614-71c98e2ae29d",
   "metadata": {},
   "outputs": [
    {
     "name": "stdout",
     "output_type": "stream",
     "text": [
      "<class 'set'>\n"
     ]
    }
   ],
   "source": [
    "print(type({9.8, 3.14, 2.7}))    # Set"
   ]
  },
  {
   "cell_type": "code",
   "execution_count": 16,
   "id": "66c1e8d2-e6ed-41d3-9b59-1e6eb8cd4a59",
   "metadata": {},
   "outputs": [
    {
     "name": "stdout",
     "output_type": "stream",
     "text": [
      "<class 'tuple'>\n"
     ]
    }
   ],
   "source": [
    "print(type((9.8, 3.14, 2.7)))    # Tuple"
   ]
  },
  {
   "cell_type": "code",
   "execution_count": 17,
   "id": "cfc01ddf-54f3-490c-9006-0c9788de9b24",
   "metadata": {},
   "outputs": [
    {
     "name": "stdout",
     "output_type": "stream",
     "text": [
      "<class 'bool'>\n"
     ]
    }
   ],
   "source": [
    "print(type(3 == 3))              # Bool"
   ]
  },
  {
   "cell_type": "code",
   "execution_count": 18,
   "id": "c54a6cf4-2ec1-45c1-a919-e9e53cca2245",
   "metadata": {},
   "outputs": [
    {
     "name": "stdout",
     "output_type": "stream",
     "text": [
      "<class 'bool'>\n"
     ]
    }
   ],
   "source": [
    "print(type(3 >= 3))              # Bool"
   ]
  },
  {
   "cell_type": "code",
   "execution_count": null,
   "id": "efc8535b-cdf0-4b75-bc0f-a3996abcf6e3",
   "metadata": {},
   "outputs": [],
   "source": []
  }
 ],
 "metadata": {
  "kernelspec": {
   "display_name": "Python 3 (ipykernel)",
   "language": "python",
   "name": "python3"
  },
  "language_info": {
   "codemirror_mode": {
    "name": "ipython",
    "version": 3
   },
   "file_extension": ".py",
   "mimetype": "text/x-python",
   "name": "python",
   "nbconvert_exporter": "python",
   "pygments_lexer": "ipython3",
   "version": "3.12.7"
  }
 },
 "nbformat": 4,
 "nbformat_minor": 5
}
