{
 "cells": [
  {
   "cell_type": "code",
   "execution_count": 4,
   "id": "9eee5560-893a-495c-a627-516b94584562",
   "metadata": {},
   "outputs": [
    {
     "data": {
      "text/plain": [
       "int"
      ]
     },
     "execution_count": 4,
     "metadata": {},
     "output_type": "execute_result"
    }
   ],
   "source": [
    "i=6#data type\n",
    "type(i)"
   ]
  },
  {
   "cell_type": "code",
   "execution_count": 5,
   "id": "d0af2d3a-92c3-46c1-b812-7d4326baecf2",
   "metadata": {},
   "outputs": [
    {
     "data": {
      "text/plain": [
       "[]"
      ]
     },
     "execution_count": 5,
     "metadata": {},
     "output_type": "execute_result"
    }
   ],
   "source": [
    "l=[]#list\n",
    "l"
   ]
  },
  {
   "cell_type": "code",
   "execution_count": 6,
   "id": "ff8537c6-3980-4963-a046-7b651ba4b537",
   "metadata": {},
   "outputs": [
    {
     "data": {
      "text/plain": [
       "0"
      ]
     },
     "execution_count": 6,
     "metadata": {},
     "output_type": "execute_result"
    }
   ],
   "source": [
    "len(l)#lenghth of empty list"
   ]
  },
  {
   "cell_type": "code",
   "execution_count": 7,
   "id": "bbd34d53-c507-46f6-9c85-c106943285d3",
   "metadata": {},
   "outputs": [
    {
     "ename": "TypeError",
     "evalue": "len() takes exactly one argument (0 given)",
     "output_type": "error",
     "traceback": [
      "\u001b[1;31m---------------------------------------------------------------------------\u001b[0m",
      "\u001b[1;31mTypeError\u001b[0m                                 Traceback (most recent call last)",
      "Cell \u001b[1;32mIn[7], line 1\u001b[0m\n\u001b[1;32m----> 1\u001b[0m \u001b[38;5;28mlen\u001b[39m()\n",
      "\u001b[1;31mTypeError\u001b[0m: len() takes exactly one argument (0 given)"
     ]
    }
   ],
   "source": [
    "len()# as no data is given"
   ]
  },
  {
   "cell_type": "code",
   "execution_count": 8,
   "id": "b93be775-2aaf-432a-b63a-e965d2ab0b99",
   "metadata": {},
   "outputs": [
    {
     "data": {
      "text/plain": [
       "0"
      ]
     },
     "execution_count": 8,
     "metadata": {},
     "output_type": "execute_result"
    }
   ],
   "source": [
    "len(l)#passing correct data which is defined"
   ]
  },
  {
   "cell_type": "code",
   "execution_count": 9,
   "id": "05715246-1621-4cd4-88d9-d0e8aae36741",
   "metadata": {},
   "outputs": [
    {
     "data": {
      "text/plain": [
       "float"
      ]
     },
     "execution_count": 9,
     "metadata": {},
     "output_type": "execute_result"
    }
   ],
   "source": [
    "i=6.6#as floating value passed\n",
    "type(i)"
   ]
  },
  {
   "cell_type": "code",
   "execution_count": 18,
   "id": "77d5312b-1ea4-4a68-b91a-e0aa2eb67964",
   "metadata": {},
   "outputs": [
    {
     "ename": "TypeError",
     "evalue": "list.append() takes exactly one argument (0 given)",
     "output_type": "error",
     "traceback": [
      "\u001b[1;31m---------------------------------------------------------------------------\u001b[0m",
      "\u001b[1;31mTypeError\u001b[0m                                 Traceback (most recent call last)",
      "Cell \u001b[1;32mIn[18], line 1\u001b[0m\n\u001b[1;32m----> 1\u001b[0m l\u001b[38;5;241m.\u001b[39mappend()\n",
      "\u001b[1;31mTypeError\u001b[0m: list.append() takes exactly one argument (0 given)"
     ]
    }
   ],
   "source": [
    "l.append() # as no data has been passed after function call/append user for adding value in the last of the list"
   ]
  },
  {
   "cell_type": "code",
   "execution_count": 12,
   "id": "3d8c9f3a-0251-4d34-a18f-850e280918f2",
   "metadata": {},
   "outputs": [],
   "source": [
    "l.append(10)"
   ]
  },
  {
   "cell_type": "code",
   "execution_count": 14,
   "id": "18f87a77-9f10-41d9-8025-87d8b581e349",
   "metadata": {},
   "outputs": [
    {
     "data": {
      "text/plain": [
       "[10, 10]"
      ]
     },
     "execution_count": 14,
     "metadata": {},
     "output_type": "execute_result"
    }
   ],
   "source": [
    "l# we have execute the data 2 time"
   ]
  },
  {
   "cell_type": "code",
   "execution_count": 15,
   "id": "0b54bcf3-a5ae-4499-b27f-a8b141f01de2",
   "metadata": {},
   "outputs": [
    {
     "ename": "TypeError",
     "evalue": "list.append() takes exactly one argument (4 given)",
     "output_type": "error",
     "traceback": [
      "\u001b[1;31m---------------------------------------------------------------------------\u001b[0m",
      "\u001b[1;31mTypeError\u001b[0m                                 Traceback (most recent call last)",
      "Cell \u001b[1;32mIn[15], line 1\u001b[0m\n\u001b[1;32m----> 1\u001b[0m l\u001b[38;5;241m.\u001b[39mappend(\u001b[38;5;241m10\u001b[39m,\u001b[38;5;241m20\u001b[39m,\u001b[38;5;241m30\u001b[39m,\u001b[38;5;241m40\u001b[39m)\n",
      "\u001b[1;31mTypeError\u001b[0m: list.append() takes exactly one argument (4 given)"
     ]
    }
   ],
   "source": [
    "l.append(10,20,30,40)#can not pass more than one argument at a time."
   ]
  },
  {
   "cell_type": "code",
   "execution_count": 16,
   "id": "a99f5985-8c8b-4f0a-989b-d3f293905479",
   "metadata": {},
   "outputs": [],
   "source": [
    "l.append(10)# that's the way to add the data via using append function\n",
    "l.append(20)\n",
    "l.append(30)\n",
    "l.append(40)"
   ]
  },
  {
   "cell_type": "code",
   "execution_count": 42,
   "id": "434a74d0-a280-4a70-846b-f92e9df969c8",
   "metadata": {},
   "outputs": [
    {
     "data": {
      "text/plain": [
       "[10, 10, 10, 20, 30, 40]"
      ]
     },
     "execution_count": 42,
     "metadata": {},
     "output_type": "execute_result"
    }
   ],
   "source": [
    "l"
   ]
  },
  {
   "cell_type": "code",
   "execution_count": 19,
   "id": "0b806746-9c42-4ef6-933b-00a4a9141095",
   "metadata": {},
   "outputs": [],
   "source": [
    "#Duplicate is allowed in append and list\n"
   ]
  },
  {
   "cell_type": "code",
   "execution_count": null,
   "id": "7401ee48-b0d9-4f16-a5a9-15f78a7ffbd9",
   "metadata": {},
   "outputs": [],
   "source": []
  },
  {
   "cell_type": "code",
   "execution_count": 20,
   "id": "ebbee16e-fd4d-41da-9963-327b138d5e0c",
   "metadata": {},
   "outputs": [
    {
     "ename": "NameError",
     "evalue": "name 'l1' is not defined",
     "output_type": "error",
     "traceback": [
      "\u001b[1;31m---------------------------------------------------------------------------\u001b[0m",
      "\u001b[1;31mNameError\u001b[0m                                 Traceback (most recent call last)",
      "Cell \u001b[1;32mIn[20], line 1\u001b[0m\n\u001b[1;32m----> 1\u001b[0m l1\u001b[38;5;241m.\u001b[39mappend(\u001b[38;5;241m70\u001b[39m)\n\u001b[0;32m      2\u001b[0m l1\u001b[38;5;241m.\u001b[39mappend(\u001b[38;5;241m2.2\u001b[39m)\n\u001b[0;32m      3\u001b[0m l1\u001b[38;5;241m.\u001b[39mappend(true)\n",
      "\u001b[1;31mNameError\u001b[0m: name 'l1' is not defined"
     ]
    }
   ],
   "source": [
    "l1.append(70)\n",
    "l1.append(2.2)\n",
    "l1.append(true)\n",
    "l1.append(1+2j)\n",
    "l1.append([1,2,3])"
   ]
  },
  {
   "cell_type": "code",
   "execution_count": 21,
   "id": "99fd9b9d-ad87-4415-b3c9-ec97326ca0ce",
   "metadata": {},
   "outputs": [],
   "source": [
    "# as l1 is not defined for the list, need to define l1 as list\n"
   ]
  },
  {
   "cell_type": "code",
   "execution_count": 22,
   "id": "5b21c45c-6dc8-4bff-bd84-2685d29933fa",
   "metadata": {},
   "outputs": [],
   "source": [
    "l1=[]"
   ]
  },
  {
   "cell_type": "code",
   "execution_count": 26,
   "id": "916aac15-467b-4b48-af3d-ca75a29fba35",
   "metadata": {},
   "outputs": [],
   "source": [
    "l1.append(70)\n",
    "l1.append(2.2)\n",
    "l1.append(True)\n",
    "l1.append(1+2j)\n",
    "l1.append([1,2,3])"
   ]
  },
  {
   "cell_type": "code",
   "execution_count": 27,
   "id": "ca3ed088-a5a6-4482-9773-b5af0a4ef74c",
   "metadata": {},
   "outputs": [],
   "source": [
    "#Mulitiple data type can be added in list\n"
   ]
  },
  {
   "cell_type": "raw",
   "id": "02a1ee51-5e74-4d1a-b3d3-5220349dcc36",
   "metadata": {},
   "source": [
    "print(id(l))\n"
   ]
  },
  {
   "cell_type": "code",
   "execution_count": 29,
   "id": "974280b5-1bb5-4fe4-a884-8970032493e6",
   "metadata": {},
   "outputs": [
    {
     "name": "stdout",
     "output_type": "stream",
     "text": [
      "1858122955392\n"
     ]
    }
   ],
   "source": [
    "print(id(l1))# memory location of the list"
   ]
  },
  {
   "cell_type": "code",
   "execution_count": 30,
   "id": "4dbfe766-043a-4473-8078-114c0a64d244",
   "metadata": {},
   "outputs": [
    {
     "data": {
      "text/plain": [
       "<function list.clear()>"
      ]
     },
     "execution_count": 30,
     "metadata": {},
     "output_type": "execute_result"
    }
   ],
   "source": [
    "l.clear# to clear the list by function clear"
   ]
  },
  {
   "cell_type": "code",
   "execution_count": 32,
   "id": "000c854f-55ce-4b4d-aa04-ac944072007c",
   "metadata": {},
   "outputs": [],
   "source": [
    "l2=l1.copy()# How to copy the list by using variable\n"
   ]
  },
  {
   "cell_type": "code",
   "execution_count": 33,
   "id": "f236cce0-da03-4b3c-86f1-977fa857da3f",
   "metadata": {},
   "outputs": [
    {
     "data": {
      "text/plain": [
       "[70, 2.2, 70, 2.2, True, (1+2j), [1, 2, 3], 70, 2.2, True, (1+2j), [1, 2, 3]]"
      ]
     },
     "execution_count": 33,
     "metadata": {},
     "output_type": "execute_result"
    }
   ],
   "source": [
    "l2#nested list(list inside list is called nested loop)"
   ]
  },
  {
   "cell_type": "code",
   "execution_count": 34,
   "id": "f51209f4-5ba8-49dd-ae38-dd39f1285a09",
   "metadata": {},
   "outputs": [
    {
     "data": {
      "text/plain": [
       "True"
      ]
     },
     "execution_count": 34,
     "metadata": {},
     "output_type": "execute_result"
    }
   ],
   "source": [
    "l1==l2# by this condition we can identify that L1=L2"
   ]
  },
  {
   "cell_type": "code",
   "execution_count": 35,
   "id": "6408775f-b7d1-47d5-83d0-4ce3a25608b7",
   "metadata": {},
   "outputs": [
    {
     "data": {
      "text/plain": [
       "False"
      ]
     },
     "execution_count": 35,
     "metadata": {},
     "output_type": "execute_result"
    }
   ],
   "source": [
    "l==l2"
   ]
  },
  {
   "cell_type": "code",
   "execution_count": 36,
   "id": "3631745e-24bb-426d-b7a0-d9fcb18a76f1",
   "metadata": {},
   "outputs": [
    {
     "data": {
      "text/plain": [
       "True"
      ]
     },
     "execution_count": 36,
     "metadata": {},
     "output_type": "execute_result"
    }
   ],
   "source": [
    "l!=l2# we can check the data by assignment operators"
   ]
  },
  {
   "cell_type": "code",
   "execution_count": 37,
   "id": "2e688859-00e9-4205-a937-533457f2dc79",
   "metadata": {},
   "outputs": [
    {
     "name": "stdout",
     "output_type": "stream",
     "text": [
      "[70, 2.2, 70, 2.2, True, (1+2j), [1, 2, 3], 70, 2.2, True, (1+2j), [1, 2, 3]]\n",
      "[70, 2.2, 70, 2.2, True, (1+2j), [1, 2, 3], 70, 2.2, True, (1+2j), [1, 2, 3]]\n"
     ]
    }
   ],
   "source": [
    "print(l1)\n",
    "print(l2)"
   ]
  },
  {
   "cell_type": "code",
   "execution_count": 39,
   "id": "12d2cc2e-5c37-4b7f-908f-2c71170bf133",
   "metadata": {},
   "outputs": [
    {
     "name": "stdout",
     "output_type": "stream",
     "text": [
      "1858122955392\n",
      "1858137419648\n"
     ]
    },
    {
     "data": {
      "text/plain": [
       "True"
      ]
     },
     "execution_count": 39,
     "metadata": {},
     "output_type": "execute_result"
    }
   ],
   "source": [
    "print(id(l1))==print(id(l2))# both memory locations are different"
   ]
  },
  {
   "cell_type": "code",
   "execution_count": 40,
   "id": "2f101dfd-21f3-4fe6-823e-b3e424b42352",
   "metadata": {},
   "outputs": [],
   "source": [
    "#append, copy and clear completed\n",
    "#list is a in-built data structure\n"
   ]
  },
  {
   "cell_type": "code",
   "execution_count": 43,
   "id": "63672896-c7b3-43de-b693-812f2ff630a0",
   "metadata": {},
   "outputs": [],
   "source": [
    "l.remove(10)# it will remove the 1st value if the values are duplicate value"
   ]
  },
  {
   "cell_type": "code",
   "execution_count": 44,
   "id": "0815c533-004b-4d24-b7b0-94159c311624",
   "metadata": {},
   "outputs": [
    {
     "data": {
      "text/plain": [
       "[10, 10, 20, 30, 40]"
      ]
     },
     "execution_count": 44,
     "metadata": {},
     "output_type": "execute_result"
    }
   ],
   "source": [
    "l"
   ]
  },
  {
   "cell_type": "code",
   "execution_count": 45,
   "id": "091d3d6a-c9bf-4f95-8b15-833d2494c5ea",
   "metadata": {},
   "outputs": [],
   "source": [
    "l.remove(20)# in this way list elements are deleted in a list"
   ]
  },
  {
   "cell_type": "code",
   "execution_count": 46,
   "id": "1b31c187-a11a-4562-99ec-620277a9fffc",
   "metadata": {},
   "outputs": [
    {
     "data": {
      "text/plain": [
       "[10, 10, 30, 40]"
      ]
     },
     "execution_count": 46,
     "metadata": {},
     "output_type": "execute_result"
    }
   ],
   "source": [
    "l"
   ]
  },
  {
   "cell_type": "code",
   "execution_count": 51,
   "id": "754fa2af-cb2b-4201-9410-62e94991b9de",
   "metadata": {},
   "outputs": [],
   "source": [
    "l.insert(20,20)"
   ]
  },
  {
   "cell_type": "code",
   "execution_count": 52,
   "id": "e9ab68a9-f22e-4cf8-8393-7a5ad0e38a8b",
   "metadata": {},
   "outputs": [
    {
     "data": {
      "text/plain": [
       "[10, 10, 30, 40, 20]"
      ]
     },
     "execution_count": 52,
     "metadata": {},
     "output_type": "execute_result"
    }
   ],
   "source": [
    "l"
   ]
  },
  {
   "cell_type": "code",
   "execution_count": 53,
   "id": "895dde2d-3bc3-4b96-aaf9-2c8f5419a629",
   "metadata": {},
   "outputs": [],
   "source": [
    "#forward and backward indexing\n"
   ]
  },
  {
   "cell_type": "code",
   "execution_count": 54,
   "id": "b1fae2fa-16ba-49a4-9155-747f539300c0",
   "metadata": {},
   "outputs": [],
   "source": [
    "#strixing indexing\n"
   ]
  },
  {
   "cell_type": "code",
   "execution_count": 55,
   "id": "6453fda8-a783-4941-8b8d-5578d780d3b3",
   "metadata": {},
   "outputs": [],
   "source": [
    "s7='nareshit'"
   ]
  },
  {
   "cell_type": "code",
   "execution_count": 56,
   "id": "d2697909-f5d6-4704-a311-22bec1848d5d",
   "metadata": {},
   "outputs": [
    {
     "data": {
      "text/plain": [
       "'n'"
      ]
     },
     "execution_count": 56,
     "metadata": {},
     "output_type": "execute_result"
    }
   ],
   "source": [
    "s7[0]# forward indexing(0 to 8)"
   ]
  },
  {
   "cell_type": "code",
   "execution_count": 57,
   "id": "68d8d384-6490-48b6-9c5c-487df24e3d81",
   "metadata": {},
   "outputs": [
    {
     "data": {
      "text/plain": [
       "'r'"
      ]
     },
     "execution_count": 57,
     "metadata": {},
     "output_type": "execute_result"
    }
   ],
   "source": [
    "s7[2]#forward indexing"
   ]
  },
  {
   "cell_type": "code",
   "execution_count": 58,
   "id": "c342b590-7135-4a04-87a0-3b4787ed7ea0",
   "metadata": {},
   "outputs": [
    {
     "data": {
      "text/plain": [
       "'h'"
      ]
     },
     "execution_count": 58,
     "metadata": {},
     "output_type": "execute_result"
    }
   ],
   "source": [
    "s7[-3]#backward indexing(-9 to 0)"
   ]
  },
  {
   "cell_type": "code",
   "execution_count": 59,
   "id": "ab4476ee-e82d-4dd1-84b7-5d6dd4c1eb3c",
   "metadata": {},
   "outputs": [
    {
     "data": {
      "text/plain": [
       "'n'"
      ]
     },
     "execution_count": 59,
     "metadata": {},
     "output_type": "execute_result"
    }
   ],
   "source": [
    "s7[-8]#backward indexing"
   ]
  },
  {
   "cell_type": "code",
   "execution_count": 60,
   "id": "94323323-ec2d-48d7-9f76-b4b4df5b2445",
   "metadata": {},
   "outputs": [
    {
     "ename": "IndexError",
     "evalue": "string index out of range",
     "output_type": "error",
     "traceback": [
      "\u001b[1;31m---------------------------------------------------------------------------\u001b[0m",
      "\u001b[1;31mIndexError\u001b[0m                                Traceback (most recent call last)",
      "Cell \u001b[1;32mIn[60], line 1\u001b[0m\n\u001b[1;32m----> 1\u001b[0m s7[\u001b[38;5;241m-\u001b[39m\u001b[38;5;241m9\u001b[39m]\n",
      "\u001b[1;31mIndexError\u001b[0m: string index out of range"
     ]
    }
   ],
   "source": [
    "s7[-9]#as no data is there in -9 index for backward indexing"
   ]
  },
  {
   "cell_type": "code",
   "execution_count": 64,
   "id": "734149ee-c535-497d-a5aa-3b6728233fae",
   "metadata": {},
   "outputs": [
    {
     "name": "stdout",
     "output_type": "stream",
     "text": [
      "n\n",
      "a\n",
      "r\n",
      "e\n",
      "s\n",
      "h\n",
      "i\n",
      "t\n"
     ]
    }
   ],
   "source": [
    "for i in s7:\n",
    "    print (i)# for loop iter and next method)"
   ]
  },
  {
   "cell_type": "code",
   "execution_count": null,
   "id": "e0f605bb-2a51-4734-9e7b-9411b9fc03e4",
   "metadata": {},
   "outputs": [],
   "source": [
    "#slicing\n"
   ]
  },
  {
   "cell_type": "code",
   "execution_count": 66,
   "id": "6faf4c43-e9c5-49e8-9079-6ce08afabcf4",
   "metadata": {},
   "outputs": [],
   "source": [
    "# 3 type of slycising are there 1.forward,2. backward and 3. step slice"
   ]
  },
  {
   "cell_type": "code",
   "execution_count": 67,
   "id": "d8b9cfcd-094d-45db-9f95-b08d8b36e454",
   "metadata": {},
   "outputs": [],
   "source": [
    "#[2:7] left index=2, right index=6 as per n-1 formula"
   ]
  },
  {
   "cell_type": "code",
   "execution_count": 68,
   "id": "6fd439eb-898e-4346-8a23-5c1144d72fb9",
   "metadata": {},
   "outputs": [],
   "source": [
    "s8='abcdefghi'\n"
   ]
  },
  {
   "cell_type": "code",
   "execution_count": 69,
   "id": "4d10efb3-fe2d-4c4a-a78c-5ab459ba9b68",
   "metadata": {},
   "outputs": [
    {
     "data": {
      "text/plain": [
       "'abcdefghi'"
      ]
     },
     "execution_count": 69,
     "metadata": {},
     "output_type": "execute_result"
    }
   ],
   "source": [
    "s8[0:9]# as in right 9th index is there"
   ]
  },
  {
   "cell_type": "code",
   "execution_count": 71,
   "id": "49fdb511-bb65-4401-9050-16bcb0463f4b",
   "metadata": {},
   "outputs": [
    {
     "data": {
      "text/plain": [
       "'bcdefgh'"
      ]
     },
     "execution_count": 71,
     "metadata": {},
     "output_type": "execute_result"
    }
   ],
   "source": [
    "s8[1:8]#forward indexing"
   ]
  },
  {
   "cell_type": "code",
   "execution_count": 72,
   "id": "58fed18a-70a6-4490-a3d6-036001c7f647",
   "metadata": {},
   "outputs": [
    {
     "data": {
      "text/plain": [
       "'defgh'"
      ]
     },
     "execution_count": 72,
     "metadata": {},
     "output_type": "execute_result"
    }
   ],
   "source": [
    "s8[3:8]"
   ]
  },
  {
   "cell_type": "code",
   "execution_count": 76,
   "id": "3fcff5d1-8185-44e2-80c9-5e55a9efc193",
   "metadata": {},
   "outputs": [
    {
     "data": {
      "text/plain": [
       "'bcde'"
      ]
     },
     "execution_count": 76,
     "metadata": {},
     "output_type": "execute_result"
    }
   ],
   "source": [
    "s8[1:-4]#backward slicing"
   ]
  },
  {
   "cell_type": "code",
   "execution_count": 77,
   "id": "3454a207-a255-486d-b540-9abbf056e750",
   "metadata": {},
   "outputs": [
    {
     "data": {
      "text/plain": [
       "'beh'"
      ]
     },
     "execution_count": 77,
     "metadata": {},
     "output_type": "execute_result"
    }
   ],
   "source": [
    "s8[1:8:3]#step intexing, formula:(start:stop:step)"
   ]
  },
  {
   "cell_type": "code",
   "execution_count": 78,
   "id": "e406eabe-da33-436d-818d-f979fe85f194",
   "metadata": {},
   "outputs": [],
   "source": [
    "step_indexing=[1,2,3,4,5,6,7,8,9,10]#step indexing"
   ]
  },
  {
   "cell_type": "code",
   "execution_count": 79,
   "id": "f72c22f9-5bca-4cdf-8049-100aabf21deb",
   "metadata": {},
   "outputs": [
    {
     "data": {
      "text/plain": [
       "[1, 5, 9]"
      ]
     },
     "execution_count": 79,
     "metadata": {},
     "output_type": "execute_result"
    }
   ],
   "source": [
    "step_indexing[0:10:4]"
   ]
  },
  {
   "cell_type": "code",
   "execution_count": 80,
   "id": "3db7112a-1345-47a6-8a1a-8510c10e1c05",
   "metadata": {},
   "outputs": [
    {
     "data": {
      "text/plain": [
       "[1, 2, 3, 4, 5, 6, 7, 8, 9, 10]"
      ]
     },
     "execution_count": 80,
     "metadata": {},
     "output_type": "execute_result"
    }
   ],
   "source": [
    "step_indexing[:]"
   ]
  },
  {
   "cell_type": "code",
   "execution_count": 81,
   "id": "2196c249-8b57-454d-82d3-12f321003c82",
   "metadata": {},
   "outputs": [],
   "source": [
    "#emply slice means all element"
   ]
  },
  {
   "cell_type": "code",
   "execution_count": 82,
   "id": "1326b99c-43c2-45c2-9fd5-86382601d72c",
   "metadata": {},
   "outputs": [],
   "source": [
    "l.reverse()"
   ]
  },
  {
   "cell_type": "code",
   "execution_count": 83,
   "id": "e617b6e8-6243-45ed-b7e9-69d9b58d6630",
   "metadata": {},
   "outputs": [
    {
     "data": {
      "text/plain": [
       "[20, 40, 30, 10, 10]"
      ]
     },
     "execution_count": 83,
     "metadata": {},
     "output_type": "execute_result"
    }
   ],
   "source": [
    "l"
   ]
  },
  {
   "cell_type": "code",
   "execution_count": 84,
   "id": "2e631a61-e90d-4b62-8af1-73cfa335dd20",
   "metadata": {},
   "outputs": [],
   "source": [
    "l5=l.reverse()"
   ]
  },
  {
   "cell_type": "code",
   "execution_count": 86,
   "id": "3254dbf8-ac9d-408e-bdc2-bfb3b7013ee4",
   "metadata": {},
   "outputs": [],
   "source": [
    "l5"
   ]
  },
  {
   "cell_type": "code",
   "execution_count": 87,
   "id": "fe22302a-3f8c-4c6f-aedd-fd06ad0ac83b",
   "metadata": {},
   "outputs": [
    {
     "name": "stdout",
     "output_type": "stream",
     "text": [
      "None\n"
     ]
    }
   ],
   "source": [
    "print(l5)# as no data has been assigned"
   ]
  },
  {
   "cell_type": "code",
   "execution_count": 88,
   "id": "0117b936-7fe9-4398-bb8c-94d3080476d4",
   "metadata": {},
   "outputs": [
    {
     "data": {
      "text/plain": [
       "[10, 10, 30, 40, 20]"
      ]
     },
     "execution_count": 88,
     "metadata": {},
     "output_type": "execute_result"
    }
   ],
   "source": [
    "l"
   ]
  },
  {
   "cell_type": "code",
   "execution_count": 89,
   "id": "c02f4c70-4a82-466c-9369-5ce653a216d4",
   "metadata": {},
   "outputs": [],
   "source": [
    "l.reverse()#reverse is used for reverse the set"
   ]
  },
  {
   "cell_type": "code",
   "execution_count": 90,
   "id": "20af81a3-75bb-468a-a904-cf80b912a376",
   "metadata": {},
   "outputs": [
    {
     "data": {
      "text/plain": [
       "[20, 40, 30, 10, 10]"
      ]
     },
     "execution_count": 90,
     "metadata": {},
     "output_type": "execute_result"
    }
   ],
   "source": [
    "l"
   ]
  },
  {
   "cell_type": "code",
   "execution_count": null,
   "id": "2dc577c2-3e44-4db9-9d2f-4b9c7b3a8dd6",
   "metadata": {},
   "outputs": [],
   "source": []
  }
 ],
 "metadata": {
  "kernelspec": {
   "display_name": "Python 3 (ipykernel)",
   "language": "python",
   "name": "python3"
  },
  "language_info": {
   "codemirror_mode": {
    "name": "ipython",
    "version": 3
   },
   "file_extension": ".py",
   "mimetype": "text/x-python",
   "name": "python",
   "nbconvert_exporter": "python",
   "pygments_lexer": "ipython3",
   "version": "3.12.7"
  }
 },
 "nbformat": 4,
 "nbformat_minor": 5
}
