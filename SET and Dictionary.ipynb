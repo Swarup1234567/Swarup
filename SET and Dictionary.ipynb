{
 "cells": [
  {
   "cell_type": "code",
   "execution_count": 1,
   "id": "d2728ef9-67f5-420b-b215-ba472cfee52c",
   "metadata": {},
   "outputs": [
    {
     "data": {
      "text/plain": [
       "{(1+2j), 2, 3, 45.8, True, 'nit'}"
      ]
     },
     "execution_count": 1,
     "metadata": {},
     "output_type": "execute_result"
    }
   ],
   "source": [
    "s5={2,3,'nit',1+2j,True,45.8}\n",
    "s5"
   ]
  },
  {
   "cell_type": "code",
   "execution_count": 2,
   "id": "b41b57a0-d354-47bc-8f03-b1732b21314f",
   "metadata": {},
   "outputs": [
    {
     "data": {
      "text/plain": [
       "set"
      ]
     },
     "execution_count": 2,
     "metadata": {},
     "output_type": "execute_result"
    }
   ],
   "source": [
    "type(s5)"
   ]
  },
  {
   "cell_type": "code",
   "execution_count": 3,
   "id": "28726262-121f-4e61-ab29-ab88f328ea47",
   "metadata": {},
   "outputs": [],
   "source": [
    "#2 in s5- True"
   ]
  },
  {
   "cell_type": "code",
   "execution_count": 4,
   "id": "2c834d9f-2f56-4173-a9d0-a4e2fa590317",
   "metadata": {},
   "outputs": [
    {
     "data": {
      "text/plain": [
       "False"
      ]
     },
     "execution_count": 4,
     "metadata": {},
     "output_type": "execute_result"
    }
   ],
   "source": [
    "200 in s5"
   ]
  },
  {
   "cell_type": "code",
   "execution_count": 5,
   "id": "9e3b837a-284f-454c-81a9-20c39f912b70",
   "metadata": {},
   "outputs": [],
   "source": [
    "# disscrad never gives any error. if it is member it will elemenate.\n"
   ]
  },
  {
   "cell_type": "code",
   "execution_count": 6,
   "id": "de5c1165-af38-401e-9d50-424ed960106d",
   "metadata": {},
   "outputs": [
    {
     "data": {
      "text/plain": [
       "{(1+2j), 2, 3, 45.8, True, 'nit'}"
      ]
     },
     "execution_count": 6,
     "metadata": {},
     "output_type": "execute_result"
    }
   ],
   "source": [
    "s5#set operations"
   ]
  },
  {
   "cell_type": "code",
   "execution_count": 10,
   "id": "4c1725cf-6dcc-432c-a6ee-3a4e36e924fa",
   "metadata": {},
   "outputs": [
    {
     "name": "stdout",
     "output_type": "stream",
     "text": [
      "True\n",
      "2\n",
      "nit\n",
      "3\n",
      "(1+2j)\n",
      "45.8\n"
     ]
    }
   ],
   "source": [
    "for i in s5:\n",
    "   print(i)"
   ]
  },
  {
   "cell_type": "code",
   "execution_count": 12,
   "id": "c93423b2-f22c-4a45-97aa-446107b1c62d",
   "metadata": {},
   "outputs": [
    {
     "name": "stdout",
     "output_type": "stream",
     "text": [
      "(0, True)\n",
      "(1, 2)\n",
      "(2, 'nit')\n",
      "(3, 3)\n",
      "(4, (1+2j))\n",
      "(5, 45.8)\n"
     ]
    }
   ],
   "source": [
    "for i  in enumerate(s5):\n",
    "    print (i)\n",
    "    "
   ]
  },
  {
   "cell_type": "code",
   "execution_count": 13,
   "id": "b30016da-7fe2-47b7-9417-764da895416b",
   "metadata": {},
   "outputs": [
    {
     "data": {
      "text/plain": [
       "{(1+2j), 2, 3, 45.8, True, 'nit'}"
      ]
     },
     "execution_count": 13,
     "metadata": {},
     "output_type": "execute_result"
    }
   ],
   "source": [
    "s5# set membership"
   ]
  },
  {
   "cell_type": "code",
   "execution_count": 15,
   "id": "15cfb321-7f35-4856-825c-fd5c2b601024",
   "metadata": {},
   "outputs": [
    {
     "data": {
      "text/plain": [
       "{(1+2j), 2, 3, 45.8, True, 'nit'}"
      ]
     },
     "execution_count": 15,
     "metadata": {},
     "output_type": "execute_result"
    }
   ],
   "source": [
    "s5.update([1,2,3])\n",
    "s5#Update"
   ]
  },
  {
   "cell_type": "code",
   "execution_count": 16,
   "id": "4f76fd99-604c-4f36-87bc-b7bb6a84d869",
   "metadata": {},
   "outputs": [
    {
     "data": {
      "text/plain": [
       "{(1+2j), 100, 2, 200, 3, 300, 45.8, True, 'nit'}"
      ]
     },
     "execution_count": 16,
     "metadata": {},
     "output_type": "execute_result"
    }
   ],
   "source": [
    "s5.update([100,200,300])\n",
    "s5"
   ]
  },
  {
   "cell_type": "code",
   "execution_count": 17,
   "id": "11a55bf6-964e-4b68-bcd5-6fe569990c10",
   "metadata": {},
   "outputs": [
    {
     "data": {
      "text/plain": [
       "{(1+2j), 100, 2, 200, 3, 300, 45.8, True, 'nit'}"
      ]
     },
     "execution_count": 17,
     "metadata": {},
     "output_type": "execute_result"
    }
   ],
   "source": [
    "s6=s5.copy()\n",
    "s6#copy"
   ]
  },
  {
   "cell_type": "code",
   "execution_count": null,
   "id": "3b1bd4c0-22c6-4401-82ed-ee55e1e5a7a4",
   "metadata": {},
   "outputs": [],
   "source": [
    "#UNION"
   ]
  },
  {
   "cell_type": "code",
   "execution_count": 18,
   "id": "b4829397-3db4-4063-bba6-548572716c16",
   "metadata": {},
   "outputs": [],
   "source": [
    "A={1,2,3,4,5}\n",
    "B={4,5,6,7,8}\n",
    "C={8,9,10}"
   ]
  },
  {
   "cell_type": "code",
   "execution_count": 19,
   "id": "0d2d5e0c-2076-4143-a177-abf7ec0a98e2",
   "metadata": {},
   "outputs": [
    {
     "data": {
      "text/plain": [
       "{1, 2, 3, 4, 5, 6, 7, 8}"
      ]
     },
     "execution_count": 19,
     "metadata": {},
     "output_type": "execute_result"
    }
   ],
   "source": [
    "A.union(B)"
   ]
  },
  {
   "cell_type": "code",
   "execution_count": 20,
   "id": "864fa85a-e990-4edb-b645-3e97c0fffa37",
   "metadata": {},
   "outputs": [
    {
     "data": {
      "text/plain": [
       "{1, 2, 3, 4, 5, 6, 7, 8, 9, 10}"
      ]
     },
     "execution_count": 20,
     "metadata": {},
     "output_type": "execute_result"
    }
   ],
   "source": [
    "A.union(B,C)"
   ]
  },
  {
   "cell_type": "code",
   "execution_count": 21,
   "id": "ab185159-c99d-4715-afe2-f88aa00d7fa6",
   "metadata": {},
   "outputs": [
    {
     "ename": "TypeError",
     "evalue": "'int' object is not iterable",
     "output_type": "error",
     "traceback": [
      "\u001b[1;31m---------------------------------------------------------------------------\u001b[0m",
      "\u001b[1;31mTypeError\u001b[0m                                 Traceback (most recent call last)",
      "Cell \u001b[1;32mIn[21], line 1\u001b[0m\n\u001b[1;32m----> 1\u001b[0m A\u001b[38;5;241m.\u001b[39munion(B,C,\u001b[38;5;241m56\u001b[39m)\n",
      "\u001b[1;31mTypeError\u001b[0m: 'int' object is not iterable"
     ]
    }
   ],
   "source": [
    "A.union(B,C,56)# need to pass variable only"
   ]
  },
  {
   "cell_type": "code",
   "execution_count": 22,
   "id": "1eb1e68b-60fe-4c00-9abb-d146ee715cdd",
   "metadata": {},
   "outputs": [
    {
     "name": "stdout",
     "output_type": "stream",
     "text": [
      "{1, 2, 3, 4, 5}\n",
      "{4, 5, 6, 7, 8}\n",
      "{8, 9, 10}\n"
     ]
    }
   ],
   "source": [
    "print(A)\n",
    "print(B)\n",
    "print(C)\n"
   ]
  },
  {
   "cell_type": "code",
   "execution_count": 23,
   "id": "380a015e-c002-4b4c-b3b7-e0a9ae7c1131",
   "metadata": {},
   "outputs": [
    {
     "data": {
      "text/plain": [
       "{1, 2, 3, 4, 5, 6, 7, 8}"
      ]
     },
     "execution_count": 23,
     "metadata": {},
     "output_type": "execute_result"
    }
   ],
   "source": [
    "A|B# Other option to write Union"
   ]
  },
  {
   "cell_type": "code",
   "execution_count": 24,
   "id": "b73e4aa9-aa56-4538-871f-110b325e7337",
   "metadata": {},
   "outputs": [
    {
     "data": {
      "text/plain": [
       "{1, 2, 3, 4, 5, 6, 7, 8, 9, 10}"
      ]
     },
     "execution_count": 24,
     "metadata": {},
     "output_type": "execute_result"
    }
   ],
   "source": [
    "A|B|C"
   ]
  },
  {
   "cell_type": "code",
   "execution_count": 25,
   "id": "70506dc7-30a7-4206-9594-614cd47ea8ca",
   "metadata": {},
   "outputs": [
    {
     "data": {
      "text/plain": [
       "{4, 5}"
      ]
     },
     "execution_count": 25,
     "metadata": {},
     "output_type": "execute_result"
    }
   ],
   "source": [
    "A&B# INTERSECTION"
   ]
  },
  {
   "cell_type": "code",
   "execution_count": 26,
   "id": "df150738-a3d7-43a5-8512-9af983ba08f0",
   "metadata": {},
   "outputs": [
    {
     "data": {
      "text/plain": [
       "set()"
      ]
     },
     "execution_count": 26,
     "metadata": {},
     "output_type": "execute_result"
    }
   ],
   "source": [
    "A.intersection(C)# nO COMMON nUMBERS"
   ]
  },
  {
   "cell_type": "code",
   "execution_count": 27,
   "id": "a61ee8c2-80df-4786-a61d-de9495bc83fe",
   "metadata": {},
   "outputs": [
    {
     "data": {
      "text/plain": [
       "{8}"
      ]
     },
     "execution_count": 27,
     "metadata": {},
     "output_type": "execute_result"
    }
   ],
   "source": [
    "B&C"
   ]
  },
  {
   "cell_type": "code",
   "execution_count": 28,
   "id": "fb2943ce-f895-4a03-a678-b73a88070074",
   "metadata": {},
   "outputs": [
    {
     "data": {
      "text/plain": [
       "{1, 2, 3}"
      ]
     },
     "execution_count": 28,
     "metadata": {},
     "output_type": "execute_result"
    }
   ],
   "source": [
    "A-B #DIFFERENCE"
   ]
  },
  {
   "cell_type": "code",
   "execution_count": 29,
   "id": "5c3be917-a66c-49c4-8628-4ca1bb32209a",
   "metadata": {},
   "outputs": [
    {
     "data": {
      "text/plain": [
       "{1, 2, 3, 4, 5}"
      ]
     },
     "execution_count": 29,
     "metadata": {},
     "output_type": "execute_result"
    }
   ],
   "source": [
    "A-C"
   ]
  },
  {
   "cell_type": "code",
   "execution_count": 30,
   "id": "cf12b16c-1185-417e-9aee-cd6996b643c0",
   "metadata": {},
   "outputs": [
    {
     "data": {
      "text/plain": [
       "{8, 9, 10}"
      ]
     },
     "execution_count": 30,
     "metadata": {},
     "output_type": "execute_result"
    }
   ],
   "source": [
    "C-A"
   ]
  },
  {
   "cell_type": "code",
   "execution_count": 31,
   "id": "8d9645e2-02d3-451e-be52-aec86dbbaafe",
   "metadata": {},
   "outputs": [
    {
     "name": "stdout",
     "output_type": "stream",
     "text": [
      "{1, 2, 3, 4, 5}\n",
      "{4, 5, 6, 7, 8}\n",
      "{8, 9, 10}\n"
     ]
    }
   ],
   "source": [
    "print(A)\n",
    "print(B)\n",
    "print(C)"
   ]
  },
  {
   "cell_type": "code",
   "execution_count": 32,
   "id": "7724d992-3f2a-457a-9d76-5db0b13a77e6",
   "metadata": {},
   "outputs": [
    {
     "data": {
      "text/plain": [
       "{1, 2, 3, 6, 7, 8}"
      ]
     },
     "execution_count": 32,
     "metadata": {},
     "output_type": "execute_result"
    }
   ],
   "source": [
    "A.symmetric_difference(B)#COMMON ELEMENT REMOVED"
   ]
  },
  {
   "cell_type": "code",
   "execution_count": 33,
   "id": "0d0cc0e8-6a77-4bce-8e09-27749aa731c5",
   "metadata": {},
   "outputs": [
    {
     "data": {
      "text/plain": [
       "{1, 2, 3, 4, 5, 8, 9, 10}"
      ]
     },
     "execution_count": 33,
     "metadata": {},
     "output_type": "execute_result"
    }
   ],
   "source": [
    "A.symmetric_difference(C)"
   ]
  },
  {
   "cell_type": "code",
   "execution_count": 34,
   "id": "94d64acb-be4e-4c20-88b8-2535a878cff8",
   "metadata": {},
   "outputs": [
    {
     "data": {
      "text/plain": [
       "{4, 5, 6, 7, 9, 10}"
      ]
     },
     "execution_count": 34,
     "metadata": {},
     "output_type": "execute_result"
    }
   ],
   "source": [
    "B.symmetric_difference(C)"
   ]
  },
  {
   "cell_type": "code",
   "execution_count": 35,
   "id": "47af9a6e-6b20-4da7-87bf-ac8a803f4555",
   "metadata": {},
   "outputs": [
    {
     "data": {
      "text/plain": [
       "{4, 5, 6, 7, 9, 10}"
      ]
     },
     "execution_count": 35,
     "metadata": {},
     "output_type": "execute_result"
    }
   ],
   "source": [
    "B^C"
   ]
  },
  {
   "cell_type": "code",
   "execution_count": 36,
   "id": "785ff898-ce8b-4377-bd76-97017be3bac0",
   "metadata": {},
   "outputs": [
    {
     "data": {
      "text/plain": [
       "{1, 2, 3, 4, 5, 8, 9, 10}"
      ]
     },
     "execution_count": 36,
     "metadata": {},
     "output_type": "execute_result"
    }
   ],
   "source": [
    "A^C"
   ]
  },
  {
   "cell_type": "code",
   "execution_count": 37,
   "id": "92f5efb6-eab3-4498-a834-e7dd27d24055",
   "metadata": {},
   "outputs": [
    {
     "data": {
      "text/plain": [
       "{1, 2, 3, 6, 7, 9, 10}"
      ]
     },
     "execution_count": 37,
     "metadata": {},
     "output_type": "execute_result"
    }
   ],
   "source": [
    "A^B^C"
   ]
  },
  {
   "cell_type": "code",
   "execution_count": null,
   "id": "b756f8c2-5d89-4eeb-8476-9944570e9bc2",
   "metadata": {},
   "outputs": [],
   "source": [
    "#SUPER SET , SUB SET AND DISJOINT\n",
    "#SUPER CLASS,#SUBCLASS #INHERITENCE"
   ]
  },
  {
   "cell_type": "code",
   "execution_count": 39,
   "id": "89d6ac0a-ae59-4993-9357-4b0f5779fbae",
   "metadata": {},
   "outputs": [],
   "source": [
    "A1={1,2,3,4,5,6,7,8,9}\n",
    "B1={3,4,5,6,7,8}\n",
    "C1={10,20,30,40}"
   ]
  },
  {
   "cell_type": "code",
   "execution_count": 40,
   "id": "955cf41d-9068-4151-bdbe-941ca8b14f9f",
   "metadata": {},
   "outputs": [
    {
     "data": {
      "text/plain": [
       "True"
      ]
     },
     "execution_count": 40,
     "metadata": {},
     "output_type": "execute_result"
    }
   ],
   "source": [
    "B1.issubset(A1)"
   ]
  },
  {
   "cell_type": "code",
   "execution_count": 41,
   "id": "394a6e3e-51ca-4871-837c-931385ffa582",
   "metadata": {},
   "outputs": [
    {
     "data": {
      "text/plain": [
       "False"
      ]
     },
     "execution_count": 41,
     "metadata": {},
     "output_type": "execute_result"
    }
   ],
   "source": [
    "A1.issubset(B1)"
   ]
  },
  {
   "cell_type": "code",
   "execution_count": 42,
   "id": "d82ec286-7941-42dc-bbc0-739cd98fd46d",
   "metadata": {},
   "outputs": [
    {
     "data": {
      "text/plain": [
       "True"
      ]
     },
     "execution_count": 42,
     "metadata": {},
     "output_type": "execute_result"
    }
   ],
   "source": [
    "A1.issuperset(B1)"
   ]
  },
  {
   "cell_type": "code",
   "execution_count": 43,
   "id": "e934613e-c9f1-4aa2-89ba-c38b6b39a639",
   "metadata": {},
   "outputs": [
    {
     "data": {
      "text/plain": [
       "False"
      ]
     },
     "execution_count": 43,
     "metadata": {},
     "output_type": "execute_result"
    }
   ],
   "source": [
    "C1.issubset(A1)"
   ]
  },
  {
   "cell_type": "code",
   "execution_count": 44,
   "id": "17e8926c-9cef-44dc-a4ff-d6238f5da8c0",
   "metadata": {},
   "outputs": [
    {
     "data": {
      "text/plain": [
       "False"
      ]
     },
     "execution_count": 44,
     "metadata": {},
     "output_type": "execute_result"
    }
   ],
   "source": [
    "C1.issubset(B1)"
   ]
  },
  {
   "cell_type": "code",
   "execution_count": 45,
   "id": "b35a5701-3bca-46dd-a5c8-2f469d296d3c",
   "metadata": {},
   "outputs": [
    {
     "data": {
      "text/plain": [
       "False"
      ]
     },
     "execution_count": 45,
     "metadata": {},
     "output_type": "execute_result"
    }
   ],
   "source": [
    "B1.issubset(C1)"
   ]
  },
  {
   "cell_type": "code",
   "execution_count": 46,
   "id": "515d99f7-8f5f-457b-a586-45f0daec1af3",
   "metadata": {},
   "outputs": [
    {
     "data": {
      "text/plain": [
       "True"
      ]
     },
     "execution_count": 46,
     "metadata": {},
     "output_type": "execute_result"
    }
   ],
   "source": [
    "C1.isdisjoint(A1)"
   ]
  },
  {
   "cell_type": "code",
   "execution_count": 47,
   "id": "94c69f7c-be47-4a54-a34f-1a0ef7f7a0e4",
   "metadata": {},
   "outputs": [
    {
     "data": {
      "text/plain": [
       "True"
      ]
     },
     "execution_count": 47,
     "metadata": {},
     "output_type": "execute_result"
    }
   ],
   "source": [
    "C1.isdisjoint(B1)"
   ]
  },
  {
   "cell_type": "code",
   "execution_count": 49,
   "id": "7a168608-77b0-4b5e-89a5-b3c31a22d9ba",
   "metadata": {},
   "outputs": [],
   "source": [
    "A2={1,2,3,4,5,6,7,8,9}\n",
    "B2={13,14,15,16,17,18}\n",
    "C2={10,20,30,40}"
   ]
  },
  {
   "cell_type": "code",
   "execution_count": 50,
   "id": "1875b0a6-0ec8-425d-b2ec-3ddb87acb63a",
   "metadata": {},
   "outputs": [
    {
     "data": {
      "text/plain": [
       "False"
      ]
     },
     "execution_count": 50,
     "metadata": {},
     "output_type": "execute_result"
    }
   ],
   "source": [
    "A2.issuperset(B2)"
   ]
  },
  {
   "cell_type": "code",
   "execution_count": 51,
   "id": "299b0348-792e-40ee-8817-7ef8358b721e",
   "metadata": {},
   "outputs": [
    {
     "data": {
      "text/plain": [
       "True"
      ]
     },
     "execution_count": 51,
     "metadata": {},
     "output_type": "execute_result"
    }
   ],
   "source": [
    "B2.isdisjoint(A2)"
   ]
  },
  {
   "cell_type": "code",
   "execution_count": 53,
   "id": "eb2e8b01-d497-4638-ad64-aea7ab973c88",
   "metadata": {},
   "outputs": [
    {
     "name": "stdout",
     "output_type": "stream",
     "text": [
      "(0, 1)\n",
      "(1, 2)\n",
      "(2, 3)\n",
      "(3, 4)\n",
      "(4, 5)\n",
      "(5, 6)\n",
      "(6, 7)\n",
      "(7, 8)\n",
      "(8, 9)\n"
     ]
    }
   ],
   "source": [
    "for i in enumerate(A):\n",
    "    print(i)"
   ]
  },
  {
   "cell_type": "code",
   "execution_count": 55,
   "id": "16b19e3d-4505-4617-ad32-301d9e60e8af",
   "metadata": {},
   "outputs": [],
   "source": [
    "#Dictionary\n"
   ]
  },
  {
   "cell_type": "code",
   "execution_count": 56,
   "id": "9a95a80a-57ca-4e96-8a69-8a9728e9bdf2",
   "metadata": {},
   "outputs": [],
   "source": [
    "# Keys can not be duplicate, Values can be duplicate\n"
   ]
  },
  {
   "cell_type": "code",
   "execution_count": 58,
   "id": "5f3742d9-b256-48f2-96f5-22522901408c",
   "metadata": {},
   "outputs": [],
   "source": [
    "mydict={'A':1,'B':2,'C':3}"
   ]
  },
  {
   "cell_type": "code",
   "execution_count": 59,
   "id": "a455c33e-2140-4a9a-999c-b3aed3cefd7a",
   "metadata": {},
   "outputs": [
    {
     "data": {
      "text/plain": [
       "{'A': 1, 'B': 2, 'C': 3}"
      ]
     },
     "execution_count": 59,
     "metadata": {},
     "output_type": "execute_result"
    }
   ],
   "source": [
    "mydict"
   ]
  },
  {
   "cell_type": "code",
   "execution_count": 60,
   "id": "3e0d8d35-666d-4f4e-98d7-25b0860ae54f",
   "metadata": {},
   "outputs": [
    {
     "data": {
      "text/plain": [
       "dict"
      ]
     },
     "execution_count": 60,
     "metadata": {},
     "output_type": "execute_result"
    }
   ],
   "source": [
    "type(mydict)"
   ]
  },
  {
   "cell_type": "code",
   "execution_count": 61,
   "id": "975d110d-6b0d-45f8-9eaa-344c1c089f9d",
   "metadata": {},
   "outputs": [
    {
     "data": {
      "text/plain": [
       "dict_keys(['A', 'B', 'C'])"
      ]
     },
     "execution_count": 61,
     "metadata": {},
     "output_type": "execute_result"
    }
   ],
   "source": [
    "mydict.keys()#keys"
   ]
  },
  {
   "cell_type": "code",
   "execution_count": 62,
   "id": "629551bb-c2e8-4bbd-a6c5-49e2204c7123",
   "metadata": {},
   "outputs": [
    {
     "data": {
      "text/plain": [
       "dict_values([1, 2, 3])"
      ]
     },
     "execution_count": 62,
     "metadata": {},
     "output_type": "execute_result"
    }
   ],
   "source": [
    "mydict.values()#value"
   ]
  },
  {
   "cell_type": "code",
   "execution_count": 63,
   "id": "f6df2451-e00b-491a-9718-beac25ec7b05",
   "metadata": {},
   "outputs": [
    {
     "data": {
      "text/plain": [
       "dict_items([('A', 1), ('B', 2), ('C', 3)])"
      ]
     },
     "execution_count": 63,
     "metadata": {},
     "output_type": "execute_result"
    }
   ],
   "source": [
    "mydict.items()#item"
   ]
  },
  {
   "cell_type": "code",
   "execution_count": 65,
   "id": "16f9b9cc-7107-45b9-b819-e3f202a89b4a",
   "metadata": {},
   "outputs": [
    {
     "data": {
      "text/plain": [
       "3"
      ]
     },
     "execution_count": 65,
     "metadata": {},
     "output_type": "execute_result"
    }
   ],
   "source": [
    "len(mydict.items())"
   ]
  },
  {
   "cell_type": "code",
   "execution_count": 69,
   "id": "2d2e9a34-b247-4272-91ae-932d17c88c76",
   "metadata": {},
   "outputs": [
    {
     "ename": "KeyError",
     "evalue": "0",
     "output_type": "error",
     "traceback": [
      "\u001b[1;31m---------------------------------------------------------------------------\u001b[0m",
      "\u001b[1;31mKeyError\u001b[0m                                  Traceback (most recent call last)",
      "Cell \u001b[1;32mIn[69], line 1\u001b[0m\n\u001b[1;32m----> 1\u001b[0m mydict[\u001b[38;5;241m0\u001b[39m]\n",
      "\u001b[1;31mKeyError\u001b[0m: 0"
     ]
    }
   ],
   "source": [
    "mydict[0]"
   ]
  },
  {
   "cell_type": "code",
   "execution_count": 1,
   "id": "27cc45b4-337b-4988-ae9b-90305fb4086e",
   "metadata": {},
   "outputs": [
    {
     "data": {
      "text/plain": [
       "dict"
      ]
     },
     "execution_count": 1,
     "metadata": {},
     "output_type": "execute_result"
    }
   ],
   "source": [
    "d = {}\n",
    "type(d)"
   ]
  },
  {
   "cell_type": "code",
   "execution_count": 2,
   "id": "fb840004-8c8b-4806-814d-25f22a41f19b",
   "metadata": {},
   "outputs": [
    {
     "data": {
      "text/plain": [
       "{1: 'one', 2: 'two', 3: 'three'}"
      ]
     },
     "execution_count": 2,
     "metadata": {},
     "output_type": "execute_result"
    }
   ],
   "source": [
    "d1 = {1:'one' , 2:'two' , 3:'three'} # dictionary with integer keys\n",
    "d1"
   ]
  },
  {
   "cell_type": "code",
   "execution_count": 3,
   "id": "5ba352dc-e7cd-4014-9a8b-0935d2c978fc",
   "metadata": {},
   "outputs": [
    {
     "data": {
      "text/plain": [
       "dict_keys([1, 2, 3])"
      ]
     },
     "execution_count": 3,
     "metadata": {},
     "output_type": "execute_result"
    }
   ],
   "source": [
    "d1.keys()"
   ]
  },
  {
   "cell_type": "code",
   "execution_count": 4,
   "id": "3e36ccee-4a23-4a89-803e-9e8ce960646e",
   "metadata": {},
   "outputs": [
    {
     "data": {
      "text/plain": [
       "dict_values(['one', 'two', 'three'])"
      ]
     },
     "execution_count": 4,
     "metadata": {},
     "output_type": "execute_result"
    }
   ],
   "source": [
    "d1.values()"
   ]
  },
  {
   "cell_type": "code",
   "execution_count": 5,
   "id": "94e17a08-b9c6-4a31-8b7f-558bc52f7709",
   "metadata": {},
   "outputs": [
    {
     "data": {
      "text/plain": [
       "dict_items([(1, 'one'), (2, 'two'), (3, 'three')])"
      ]
     },
     "execution_count": 5,
     "metadata": {},
     "output_type": "execute_result"
    }
   ],
   "source": [
    "d1.items()"
   ]
  },
  {
   "cell_type": "code",
   "execution_count": 6,
   "id": "e2bb652f-57c6-4846-8054-33efb8d6753e",
   "metadata": {},
   "outputs": [
    {
     "data": {
      "text/plain": [
       "3"
      ]
     },
     "execution_count": 6,
     "metadata": {},
     "output_type": "execute_result"
    }
   ],
   "source": [
    "len(d1.items())"
   ]
  },
  {
   "cell_type": "code",
   "execution_count": 7,
   "id": "c646b716-7034-4725-aef5-7429f5496986",
   "metadata": {},
   "outputs": [
    {
     "data": {
      "text/plain": [
       "{1: 'one', 2: 'two', 3: 'three'}"
      ]
     },
     "execution_count": 7,
     "metadata": {},
     "output_type": "execute_result"
    }
   ],
   "source": [
    "d1"
   ]
  },
  {
   "cell_type": "code",
   "execution_count": 8,
   "id": "4b8e16c8-1522-482b-91a5-f814e0ca774c",
   "metadata": {},
   "outputs": [
    {
     "data": {
      "text/plain": [
       "'one'"
      ]
     },
     "execution_count": 8,
     "metadata": {},
     "output_type": "execute_result"
    }
   ],
   "source": [
    "d1[1]"
   ]
  },
  {
   "cell_type": "code",
   "execution_count": 9,
   "id": "c6cb0fe8-4cf0-4d0b-b37e-d8e9137638f2",
   "metadata": {},
   "outputs": [
    {
     "name": "stdout",
     "output_type": "stream",
     "text": [
      "None\n"
     ]
    }
   ],
   "source": [
    "print(d1.get('one'))"
   ]
  },
  {
   "cell_type": "code",
   "execution_count": 10,
   "id": "dd1d0484-a837-4fa8-8324-c9f69ad33b72",
   "metadata": {},
   "outputs": [
    {
     "data": {
      "text/plain": [
       "{1: 'one', 2: 'two', 3: 'three'}"
      ]
     },
     "execution_count": 10,
     "metadata": {},
     "output_type": "execute_result"
    }
   ],
   "source": [
    "d1"
   ]
  },
  {
   "cell_type": "code",
   "execution_count": null,
   "id": "cfd41c49-2535-4124-ae17-23e96a5e38d1",
   "metadata": {},
   "outputs": [],
   "source": []
  }
 ],
 "metadata": {
  "kernelspec": {
   "display_name": "Python 3 (ipykernel)",
   "language": "python",
   "name": "python3"
  },
  "language_info": {
   "codemirror_mode": {
    "name": "ipython",
    "version": 3
   },
   "file_extension": ".py",
   "mimetype": "text/x-python",
   "name": "python",
   "nbconvert_exporter": "python",
   "pygments_lexer": "ipython3",
   "version": "3.12.7"
  }
 },
 "nbformat": 4,
 "nbformat_minor": 5
}
